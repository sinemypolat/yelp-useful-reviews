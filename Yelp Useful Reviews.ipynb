{
 "cells": [
  {
   "cell_type": "code",
   "execution_count": 1,
   "metadata": {
    "collapsed": true
   },
   "outputs": [],
   "source": [
    "import numpy as np\n",
    "import pandas as pd\n",
    "import matplotlib.pyplot as plt\n",
    "import seaborn as sns\n",
    "import datetime"
   ]
  },
  {
   "cell_type": "code",
   "execution_count": 2,
   "metadata": {
    "collapsed": true
   },
   "outputs": [],
   "source": [
    "# nltk\n",
    "import nltk\n",
    "from nltk.corpus import stopwords\n",
    "from nltk.tokenize import RegexpTokenizer"
   ]
  },
  {
   "cell_type": "code",
   "execution_count": 3,
   "metadata": {
    "collapsed": true
   },
   "outputs": [],
   "source": [
    "# Term Document Matrix from text\n",
    "from sklearn.feature_extraction.text import CountVectorizer"
   ]
  },
  {
   "cell_type": "code",
   "execution_count": 4,
   "metadata": {
    "collapsed": true
   },
   "outputs": [],
   "source": [
    "# train_test_split, GridsearchCV\n",
    "from sklearn.model_selection import train_test_split,GridSearchCV"
   ]
  },
  {
   "cell_type": "code",
   "execution_count": 5,
   "metadata": {
    "collapsed": true
   },
   "outputs": [],
   "source": [
    "# Decision Tree \n",
    "from sklearn import tree\n",
    "from sklearn.tree import DecisionTreeRegressor\n",
    "from sklearn.metrics import mean_squared_error,r2_score,mean_absolute_error"
   ]
  },
  {
   "cell_type": "code",
   "execution_count": 6,
   "metadata": {
    "collapsed": true
   },
   "outputs": [],
   "source": [
    "# Decision Tree Classifier\n",
    "from sklearn.tree import DecisionTreeClassifier\n",
    "# Random Forests\n",
    "from sklearn.ensemble import RandomForestClassifier\n",
    "# Classification Metrics\n",
    "from sklearn.metrics import accuracy_score,confusion_matrix,classification_report"
   ]
  },
  {
   "cell_type": "code",
   "execution_count": 7,
   "metadata": {
    "collapsed": true
   },
   "outputs": [],
   "source": [
    "# Used yelp training dataset from kaggle\n",
    "business = pd.read_json('yelp_training_set_business.json', lines=True)\n",
    "review = pd.read_json('yelp_training_set_review.json', lines=True)\n",
    "checkin = pd.read_json('yelp_training_set_checkin.json', lines=True)\n",
    "user = pd.read_json('yelp_training_set_user.json', lines=True)"
   ]
  },
  {
   "cell_type": "markdown",
   "metadata": {},
   "source": [
    "# Data Cleaning for Business Dataset"
   ]
  },
  {
   "cell_type": "code",
   "execution_count": 8,
   "metadata": {
    "collapsed": true
   },
   "outputs": [],
   "source": [
    "business.categories = business.categories.astype('str')"
   ]
  },
  {
   "cell_type": "code",
   "execution_count": 9,
   "metadata": {
    "collapsed": true
   },
   "outputs": [],
   "source": [
    "business['categories'] = business['categories'].str.replace( '[','')\n",
    "business['categories'] = business['categories'].str.replace( ']','')"
   ]
  },
  {
   "cell_type": "code",
   "execution_count": 10,
   "metadata": {
    "collapsed": true
   },
   "outputs": [],
   "source": [
    "business.rename(columns={'review_count':'review_count_business','stars':'stars_business'}, inplace=True)"
   ]
  },
  {
   "cell_type": "code",
   "execution_count": 11,
   "metadata": {},
   "outputs": [
    {
     "data": {
      "text/html": [
       "<div>\n",
       "<style>\n",
       "    .dataframe thead tr:only-child th {\n",
       "        text-align: right;\n",
       "    }\n",
       "\n",
       "    .dataframe thead th {\n",
       "        text-align: left;\n",
       "    }\n",
       "\n",
       "    .dataframe tbody tr th {\n",
       "        vertical-align: top;\n",
       "    }\n",
       "</style>\n",
       "<table border=\"1\" class=\"dataframe\">\n",
       "  <thead>\n",
       "    <tr style=\"text-align: right;\">\n",
       "      <th></th>\n",
       "      <th>business_id</th>\n",
       "      <th>categories</th>\n",
       "      <th>city</th>\n",
       "      <th>full_address</th>\n",
       "      <th>latitude</th>\n",
       "      <th>longitude</th>\n",
       "      <th>name</th>\n",
       "      <th>neighborhoods</th>\n",
       "      <th>open</th>\n",
       "      <th>review_count_business</th>\n",
       "      <th>stars_business</th>\n",
       "      <th>state</th>\n",
       "      <th>type</th>\n",
       "    </tr>\n",
       "  </thead>\n",
       "  <tbody>\n",
       "    <tr>\n",
       "      <th>0</th>\n",
       "      <td>rncjoVoEFUJGCUoC1JgnUA</td>\n",
       "      <td>'Accountants', 'Professional Services', 'Tax S...</td>\n",
       "      <td>Peoria</td>\n",
       "      <td>8466 W Peoria Ave\\nSte 6\\nPeoria, AZ 85345</td>\n",
       "      <td>33.581867</td>\n",
       "      <td>-112.241596</td>\n",
       "      <td>Peoria Income Tax Service</td>\n",
       "      <td>[]</td>\n",
       "      <td>True</td>\n",
       "      <td>3</td>\n",
       "      <td>5.0</td>\n",
       "      <td>AZ</td>\n",
       "      <td>business</td>\n",
       "    </tr>\n",
       "    <tr>\n",
       "      <th>1</th>\n",
       "      <td>0FNFSzCFP_rGUoJx8W7tJg</td>\n",
       "      <td>'Sporting Goods', 'Bikes', 'Shopping'</td>\n",
       "      <td>Phoenix</td>\n",
       "      <td>2149 W Wood Dr\\nPhoenix, AZ 85029</td>\n",
       "      <td>33.604054</td>\n",
       "      <td>-112.105933</td>\n",
       "      <td>Bike Doctor</td>\n",
       "      <td>[]</td>\n",
       "      <td>True</td>\n",
       "      <td>5</td>\n",
       "      <td>5.0</td>\n",
       "      <td>AZ</td>\n",
       "      <td>business</td>\n",
       "    </tr>\n",
       "    <tr>\n",
       "      <th>2</th>\n",
       "      <td>3f_lyB6vFK48ukH6ScvLHg</td>\n",
       "      <td></td>\n",
       "      <td>Phoenix</td>\n",
       "      <td>1134 N Central Ave\\nPhoenix, AZ 85004</td>\n",
       "      <td>33.460526</td>\n",
       "      <td>-112.073933</td>\n",
       "      <td>Valley Permaculture Alliance</td>\n",
       "      <td>[]</td>\n",
       "      <td>True</td>\n",
       "      <td>4</td>\n",
       "      <td>5.0</td>\n",
       "      <td>AZ</td>\n",
       "      <td>business</td>\n",
       "    </tr>\n",
       "    <tr>\n",
       "      <th>3</th>\n",
       "      <td>usAsSV36QmUej8--yvN-dg</td>\n",
       "      <td>'Food', 'Grocery'</td>\n",
       "      <td>Phoenix</td>\n",
       "      <td>845 W Southern Ave\\nPhoenix, AZ 85041</td>\n",
       "      <td>33.392210</td>\n",
       "      <td>-112.085377</td>\n",
       "      <td>Food City</td>\n",
       "      <td>[]</td>\n",
       "      <td>True</td>\n",
       "      <td>5</td>\n",
       "      <td>3.5</td>\n",
       "      <td>AZ</td>\n",
       "      <td>business</td>\n",
       "    </tr>\n",
       "  </tbody>\n",
       "</table>\n",
       "</div>"
      ],
      "text/plain": [
       "              business_id                                         categories  \\\n",
       "0  rncjoVoEFUJGCUoC1JgnUA  'Accountants', 'Professional Services', 'Tax S...   \n",
       "1  0FNFSzCFP_rGUoJx8W7tJg              'Sporting Goods', 'Bikes', 'Shopping'   \n",
       "2  3f_lyB6vFK48ukH6ScvLHg                                                      \n",
       "3  usAsSV36QmUej8--yvN-dg                                  'Food', 'Grocery'   \n",
       "\n",
       "      city                                full_address   latitude   longitude  \\\n",
       "0   Peoria  8466 W Peoria Ave\\nSte 6\\nPeoria, AZ 85345  33.581867 -112.241596   \n",
       "1  Phoenix           2149 W Wood Dr\\nPhoenix, AZ 85029  33.604054 -112.105933   \n",
       "2  Phoenix       1134 N Central Ave\\nPhoenix, AZ 85004  33.460526 -112.073933   \n",
       "3  Phoenix       845 W Southern Ave\\nPhoenix, AZ 85041  33.392210 -112.085377   \n",
       "\n",
       "                           name neighborhoods  open  review_count_business  \\\n",
       "0     Peoria Income Tax Service            []  True                      3   \n",
       "1                   Bike Doctor            []  True                      5   \n",
       "2  Valley Permaculture Alliance            []  True                      4   \n",
       "3                     Food City            []  True                      5   \n",
       "\n",
       "   stars_business state      type  \n",
       "0             5.0    AZ  business  \n",
       "1             5.0    AZ  business  \n",
       "2             5.0    AZ  business  \n",
       "3             3.5    AZ  business  "
      ]
     },
     "execution_count": 11,
     "metadata": {},
     "output_type": "execute_result"
    }
   ],
   "source": [
    "business.head(4)"
   ]
  },
  {
   "cell_type": "code",
   "execution_count": 12,
   "metadata": {},
   "outputs": [
    {
     "data": {
      "text/plain": [
       "(11537, 13)"
      ]
     },
     "execution_count": 12,
     "metadata": {},
     "output_type": "execute_result"
    }
   ],
   "source": [
    "business.shape"
   ]
  },
  {
   "cell_type": "code",
   "execution_count": 13,
   "metadata": {
    "collapsed": true
   },
   "outputs": [],
   "source": [
    "# Term Document Matrix for business categories\n",
    "count_vectorizer =  CountVectorizer(tokenizer=lambda x: x.split(','))\n",
    "categories = count_vectorizer.fit_transform(business['categories'])\n",
    "df_categories = pd.DataFrame(categories.toarray(), columns=count_vectorizer.get_feature_names())"
   ]
  },
  {
   "cell_type": "code",
   "execution_count": 14,
   "metadata": {
    "collapsed": true
   },
   "outputs": [],
   "source": [
    "business = business.drop('categories',1)\n",
    "business_2 = pd.concat([business, df_categories],axis=1, join='inner')"
   ]
  },
  {
   "cell_type": "code",
   "execution_count": 15,
   "metadata": {},
   "outputs": [
    {
     "data": {
      "text/html": [
       "<div>\n",
       "<style>\n",
       "    .dataframe thead tr:only-child th {\n",
       "        text-align: right;\n",
       "    }\n",
       "\n",
       "    .dataframe thead th {\n",
       "        text-align: left;\n",
       "    }\n",
       "\n",
       "    .dataframe tbody tr th {\n",
       "        vertical-align: top;\n",
       "    }\n",
       "</style>\n",
       "<table border=\"1\" class=\"dataframe\">\n",
       "  <thead>\n",
       "    <tr style=\"text-align: right;\">\n",
       "      <th></th>\n",
       "      <th>business_id</th>\n",
       "      <th>city</th>\n",
       "      <th>full_address</th>\n",
       "      <th>latitude</th>\n",
       "      <th>longitude</th>\n",
       "      <th>name</th>\n",
       "      <th>neighborhoods</th>\n",
       "      <th>open</th>\n",
       "      <th>review_count_business</th>\n",
       "      <th>stars_business</th>\n",
       "      <th>...</th>\n",
       "      <th>'videographers'</th>\n",
       "      <th>'videos &amp; video game rental'</th>\n",
       "      <th>'vietnamese'</th>\n",
       "      <th>'web design'</th>\n",
       "      <th>'wedding planning'</th>\n",
       "      <th>'weight loss centers'</th>\n",
       "      <th>'window washing'</th>\n",
       "      <th>'windows installation'</th>\n",
       "      <th>'wine bars'</th>\n",
       "      <th>'yoga'</th>\n",
       "    </tr>\n",
       "  </thead>\n",
       "  <tbody>\n",
       "    <tr>\n",
       "      <th>0</th>\n",
       "      <td>rncjoVoEFUJGCUoC1JgnUA</td>\n",
       "      <td>Peoria</td>\n",
       "      <td>8466 W Peoria Ave\\nSte 6\\nPeoria, AZ 85345</td>\n",
       "      <td>33.581867</td>\n",
       "      <td>-112.241596</td>\n",
       "      <td>Peoria Income Tax Service</td>\n",
       "      <td>[]</td>\n",
       "      <td>True</td>\n",
       "      <td>3</td>\n",
       "      <td>5.0</td>\n",
       "      <td>...</td>\n",
       "      <td>0</td>\n",
       "      <td>0</td>\n",
       "      <td>0</td>\n",
       "      <td>0</td>\n",
       "      <td>0</td>\n",
       "      <td>0</td>\n",
       "      <td>0</td>\n",
       "      <td>0</td>\n",
       "      <td>0</td>\n",
       "      <td>0</td>\n",
       "    </tr>\n",
       "    <tr>\n",
       "      <th>1</th>\n",
       "      <td>0FNFSzCFP_rGUoJx8W7tJg</td>\n",
       "      <td>Phoenix</td>\n",
       "      <td>2149 W Wood Dr\\nPhoenix, AZ 85029</td>\n",
       "      <td>33.604054</td>\n",
       "      <td>-112.105933</td>\n",
       "      <td>Bike Doctor</td>\n",
       "      <td>[]</td>\n",
       "      <td>True</td>\n",
       "      <td>5</td>\n",
       "      <td>5.0</td>\n",
       "      <td>...</td>\n",
       "      <td>0</td>\n",
       "      <td>0</td>\n",
       "      <td>0</td>\n",
       "      <td>0</td>\n",
       "      <td>0</td>\n",
       "      <td>0</td>\n",
       "      <td>0</td>\n",
       "      <td>0</td>\n",
       "      <td>0</td>\n",
       "      <td>0</td>\n",
       "    </tr>\n",
       "    <tr>\n",
       "      <th>2</th>\n",
       "      <td>3f_lyB6vFK48ukH6ScvLHg</td>\n",
       "      <td>Phoenix</td>\n",
       "      <td>1134 N Central Ave\\nPhoenix, AZ 85004</td>\n",
       "      <td>33.460526</td>\n",
       "      <td>-112.073933</td>\n",
       "      <td>Valley Permaculture Alliance</td>\n",
       "      <td>[]</td>\n",
       "      <td>True</td>\n",
       "      <td>4</td>\n",
       "      <td>5.0</td>\n",
       "      <td>...</td>\n",
       "      <td>0</td>\n",
       "      <td>0</td>\n",
       "      <td>0</td>\n",
       "      <td>0</td>\n",
       "      <td>0</td>\n",
       "      <td>0</td>\n",
       "      <td>0</td>\n",
       "      <td>0</td>\n",
       "      <td>0</td>\n",
       "      <td>0</td>\n",
       "    </tr>\n",
       "    <tr>\n",
       "      <th>3</th>\n",
       "      <td>usAsSV36QmUej8--yvN-dg</td>\n",
       "      <td>Phoenix</td>\n",
       "      <td>845 W Southern Ave\\nPhoenix, AZ 85041</td>\n",
       "      <td>33.392210</td>\n",
       "      <td>-112.085377</td>\n",
       "      <td>Food City</td>\n",
       "      <td>[]</td>\n",
       "      <td>True</td>\n",
       "      <td>5</td>\n",
       "      <td>3.5</td>\n",
       "      <td>...</td>\n",
       "      <td>0</td>\n",
       "      <td>0</td>\n",
       "      <td>0</td>\n",
       "      <td>0</td>\n",
       "      <td>0</td>\n",
       "      <td>0</td>\n",
       "      <td>0</td>\n",
       "      <td>0</td>\n",
       "      <td>0</td>\n",
       "      <td>0</td>\n",
       "    </tr>\n",
       "  </tbody>\n",
       "</table>\n",
       "<p>4 rows × 742 columns</p>\n",
       "</div>"
      ],
      "text/plain": [
       "              business_id     city  \\\n",
       "0  rncjoVoEFUJGCUoC1JgnUA   Peoria   \n",
       "1  0FNFSzCFP_rGUoJx8W7tJg  Phoenix   \n",
       "2  3f_lyB6vFK48ukH6ScvLHg  Phoenix   \n",
       "3  usAsSV36QmUej8--yvN-dg  Phoenix   \n",
       "\n",
       "                                 full_address   latitude   longitude  \\\n",
       "0  8466 W Peoria Ave\\nSte 6\\nPeoria, AZ 85345  33.581867 -112.241596   \n",
       "1           2149 W Wood Dr\\nPhoenix, AZ 85029  33.604054 -112.105933   \n",
       "2       1134 N Central Ave\\nPhoenix, AZ 85004  33.460526 -112.073933   \n",
       "3       845 W Southern Ave\\nPhoenix, AZ 85041  33.392210 -112.085377   \n",
       "\n",
       "                           name neighborhoods  open  review_count_business  \\\n",
       "0     Peoria Income Tax Service            []  True                      3   \n",
       "1                   Bike Doctor            []  True                      5   \n",
       "2  Valley Permaculture Alliance            []  True                      4   \n",
       "3                     Food City            []  True                      5   \n",
       "\n",
       "   stars_business   ...   'videographers' 'videos & video game rental'  \\\n",
       "0             5.0   ...                 0                            0   \n",
       "1             5.0   ...                 0                            0   \n",
       "2             5.0   ...                 0                            0   \n",
       "3             3.5   ...                 0                            0   \n",
       "\n",
       "   'vietnamese'  'web design'  'wedding planning'  'weight loss centers'  \\\n",
       "0             0             0                   0                      0   \n",
       "1             0             0                   0                      0   \n",
       "2             0             0                   0                      0   \n",
       "3             0             0                   0                      0   \n",
       "\n",
       "   'window washing'  'windows installation'  'wine bars'  'yoga'  \n",
       "0                 0                       0            0       0  \n",
       "1                 0                       0            0       0  \n",
       "2                 0                       0            0       0  \n",
       "3                 0                       0            0       0  \n",
       "\n",
       "[4 rows x 742 columns]"
      ]
     },
     "execution_count": 15,
     "metadata": {},
     "output_type": "execute_result"
    }
   ],
   "source": [
    "business_2.head(4)"
   ]
  },
  {
   "cell_type": "markdown",
   "metadata": {},
   "source": [
    "# Data Cleaning for Review Dataset"
   ]
  },
  {
   "cell_type": "code",
   "execution_count": 16,
   "metadata": {},
   "outputs": [
    {
     "data": {
      "text/html": [
       "<div>\n",
       "<style>\n",
       "    .dataframe thead tr:only-child th {\n",
       "        text-align: right;\n",
       "    }\n",
       "\n",
       "    .dataframe thead th {\n",
       "        text-align: left;\n",
       "    }\n",
       "\n",
       "    .dataframe tbody tr th {\n",
       "        vertical-align: top;\n",
       "    }\n",
       "</style>\n",
       "<table border=\"1\" class=\"dataframe\">\n",
       "  <thead>\n",
       "    <tr style=\"text-align: right;\">\n",
       "      <th></th>\n",
       "      <th>business_id</th>\n",
       "      <th>date</th>\n",
       "      <th>review_id</th>\n",
       "      <th>stars</th>\n",
       "      <th>text</th>\n",
       "      <th>type</th>\n",
       "      <th>user_id</th>\n",
       "      <th>votes</th>\n",
       "    </tr>\n",
       "  </thead>\n",
       "  <tbody>\n",
       "    <tr>\n",
       "      <th>107196</th>\n",
       "      <td>uL_kqSm8ZqJ_3U88uwA8tw</td>\n",
       "      <td>2011-04-12</td>\n",
       "      <td>9qONSWY8p25x35Sk4SgZlA</td>\n",
       "      <td>4</td>\n",
       "      <td>Cool spot. Got some great cocktails before hea...</td>\n",
       "      <td>review</td>\n",
       "      <td>igDfq5yfudC_dzz1HAEQVg</td>\n",
       "      <td>{'funny': 0, 'useful': 0, 'cool': 0}</td>\n",
       "    </tr>\n",
       "    <tr>\n",
       "      <th>229385</th>\n",
       "      <td>qkbloHdDZuHf_0wTqUGPjQ</td>\n",
       "      <td>2010-04-01</td>\n",
       "      <td>m0dJBEy88_JWZyfYSFHxgQ</td>\n",
       "      <td>4</td>\n",
       "      <td>Beautiful outdoor space and excellent food. I ...</td>\n",
       "      <td>review</td>\n",
       "      <td>oYwxSpFA1dojx3Tl12992g</td>\n",
       "      <td>{'funny': 0, 'useful': 0, 'cool': 0}</td>\n",
       "    </tr>\n",
       "    <tr>\n",
       "      <th>39863</th>\n",
       "      <td>wN_wAXWg8W94v04eqijy6g</td>\n",
       "      <td>2012-03-24</td>\n",
       "      <td>5OK0yPw9nA45hUNFYnmknA</td>\n",
       "      <td>5</td>\n",
       "      <td>This place is the bomb. Yup, I said it. I orde...</td>\n",
       "      <td>review</td>\n",
       "      <td>qRo9gHN5OiV1-peDuhCh-g</td>\n",
       "      <td>{'funny': 1, 'useful': 1, 'cool': 0}</td>\n",
       "    </tr>\n",
       "  </tbody>\n",
       "</table>\n",
       "</div>"
      ],
      "text/plain": [
       "                   business_id       date               review_id  stars  \\\n",
       "107196  uL_kqSm8ZqJ_3U88uwA8tw 2011-04-12  9qONSWY8p25x35Sk4SgZlA      4   \n",
       "229385  qkbloHdDZuHf_0wTqUGPjQ 2010-04-01  m0dJBEy88_JWZyfYSFHxgQ      4   \n",
       "39863   wN_wAXWg8W94v04eqijy6g 2012-03-24  5OK0yPw9nA45hUNFYnmknA      5   \n",
       "\n",
       "                                                     text    type  \\\n",
       "107196  Cool spot. Got some great cocktails before hea...  review   \n",
       "229385  Beautiful outdoor space and excellent food. I ...  review   \n",
       "39863   This place is the bomb. Yup, I said it. I orde...  review   \n",
       "\n",
       "                       user_id                                 votes  \n",
       "107196  igDfq5yfudC_dzz1HAEQVg  {'funny': 0, 'useful': 0, 'cool': 0}  \n",
       "229385  oYwxSpFA1dojx3Tl12992g  {'funny': 0, 'useful': 0, 'cool': 0}  \n",
       "39863   qRo9gHN5OiV1-peDuhCh-g  {'funny': 1, 'useful': 1, 'cool': 0}  "
      ]
     },
     "execution_count": 16,
     "metadata": {},
     "output_type": "execute_result"
    }
   ],
   "source": [
    "review.sample(3)"
   ]
  },
  {
   "cell_type": "code",
   "execution_count": 17,
   "metadata": {
    "collapsed": true
   },
   "outputs": [],
   "source": [
    "votes = review['votes'].apply(pd.Series)\n",
    "review = pd.concat([review, votes], axis=1).drop('votes', axis=1)\n",
    "review.rename(columns={'date':'review_date','stars':'stars_review','cool':'cool_r','funny':'funny_r','useful':'useful_r'}, inplace=True)"
   ]
  },
  {
   "cell_type": "code",
   "execution_count": 18,
   "metadata": {},
   "outputs": [
    {
     "data": {
      "text/html": [
       "<div>\n",
       "<style>\n",
       "    .dataframe thead tr:only-child th {\n",
       "        text-align: right;\n",
       "    }\n",
       "\n",
       "    .dataframe thead th {\n",
       "        text-align: left;\n",
       "    }\n",
       "\n",
       "    .dataframe tbody tr th {\n",
       "        vertical-align: top;\n",
       "    }\n",
       "</style>\n",
       "<table border=\"1\" class=\"dataframe\">\n",
       "  <thead>\n",
       "    <tr style=\"text-align: right;\">\n",
       "      <th></th>\n",
       "      <th>business_id</th>\n",
       "      <th>review_date</th>\n",
       "      <th>review_id</th>\n",
       "      <th>stars_review</th>\n",
       "      <th>text</th>\n",
       "      <th>type</th>\n",
       "      <th>user_id</th>\n",
       "      <th>cool_r</th>\n",
       "      <th>funny_r</th>\n",
       "      <th>useful_r</th>\n",
       "    </tr>\n",
       "  </thead>\n",
       "  <tbody>\n",
       "    <tr>\n",
       "      <th>133068</th>\n",
       "      <td>EWMwV5V9BxNs_U6nNVMeqw</td>\n",
       "      <td>2009-02-11</td>\n",
       "      <td>MicFhSQIQ-RUAUTcEX0x_g</td>\n",
       "      <td>5</td>\n",
       "      <td>I'm a pretty tough cookie to please, and I rar...</td>\n",
       "      <td>review</td>\n",
       "      <td>rd95Z-Z5OX0mTuiI_hlRhA</td>\n",
       "      <td>3</td>\n",
       "      <td>3</td>\n",
       "      <td>3</td>\n",
       "    </tr>\n",
       "    <tr>\n",
       "      <th>178517</th>\n",
       "      <td>P1R-DyUyBeWCvPKrRkglsQ</td>\n",
       "      <td>2008-09-09</td>\n",
       "      <td>NNsKFZA7pqSgfV-4uAS_fQ</td>\n",
       "      <td>4</td>\n",
       "      <td>Nothing like waking up at 5:30 am the day afte...</td>\n",
       "      <td>review</td>\n",
       "      <td>fczQCSmaWF78toLEmb0Zsw</td>\n",
       "      <td>13</td>\n",
       "      <td>4</td>\n",
       "      <td>10</td>\n",
       "    </tr>\n",
       "    <tr>\n",
       "      <th>204760</th>\n",
       "      <td>Nj6ITW0Zhl7LpovGIH6SAg</td>\n",
       "      <td>2009-11-16</td>\n",
       "      <td>1TASyOMdRpkgrCKI_qzx9g</td>\n",
       "      <td>3</td>\n",
       "      <td>****Warning***** \\nBe prepared to throw down w...</td>\n",
       "      <td>review</td>\n",
       "      <td>_uL7OiQSfNsCd60DrAf7qQ</td>\n",
       "      <td>2</td>\n",
       "      <td>5</td>\n",
       "      <td>4</td>\n",
       "    </tr>\n",
       "    <tr>\n",
       "      <th>152008</th>\n",
       "      <td>WdpPGvnZ27jrSTXpYgSsDA</td>\n",
       "      <td>2011-06-20</td>\n",
       "      <td>Ef7t2mOj6sqdAmf7Xc1Tdg</td>\n",
       "      <td>4</td>\n",
       "      <td>This place had great Caribbean food.  I would ...</td>\n",
       "      <td>review</td>\n",
       "      <td>5U0f_3zUi6Yy-bD6csyVjw</td>\n",
       "      <td>0</td>\n",
       "      <td>0</td>\n",
       "      <td>1</td>\n",
       "    </tr>\n",
       "  </tbody>\n",
       "</table>\n",
       "</div>"
      ],
      "text/plain": [
       "                   business_id review_date               review_id  \\\n",
       "133068  EWMwV5V9BxNs_U6nNVMeqw  2009-02-11  MicFhSQIQ-RUAUTcEX0x_g   \n",
       "178517  P1R-DyUyBeWCvPKrRkglsQ  2008-09-09  NNsKFZA7pqSgfV-4uAS_fQ   \n",
       "204760  Nj6ITW0Zhl7LpovGIH6SAg  2009-11-16  1TASyOMdRpkgrCKI_qzx9g   \n",
       "152008  WdpPGvnZ27jrSTXpYgSsDA  2011-06-20  Ef7t2mOj6sqdAmf7Xc1Tdg   \n",
       "\n",
       "        stars_review                                               text  \\\n",
       "133068             5  I'm a pretty tough cookie to please, and I rar...   \n",
       "178517             4  Nothing like waking up at 5:30 am the day afte...   \n",
       "204760             3  ****Warning***** \\nBe prepared to throw down w...   \n",
       "152008             4  This place had great Caribbean food.  I would ...   \n",
       "\n",
       "          type                 user_id  cool_r  funny_r  useful_r  \n",
       "133068  review  rd95Z-Z5OX0mTuiI_hlRhA       3        3         3  \n",
       "178517  review  fczQCSmaWF78toLEmb0Zsw      13        4        10  \n",
       "204760  review  _uL7OiQSfNsCd60DrAf7qQ       2        5         4  \n",
       "152008  review  5U0f_3zUi6Yy-bD6csyVjw       0        0         1  "
      ]
     },
     "execution_count": 18,
     "metadata": {},
     "output_type": "execute_result"
    }
   ],
   "source": [
    "review.sample(4)"
   ]
  },
  {
   "cell_type": "code",
   "execution_count": 19,
   "metadata": {
    "collapsed": true
   },
   "outputs": [],
   "source": [
    "# Getting ratio of useful reviews / total reviews that a business has.\n",
    "review_business_useful = ((review[review['useful_r']>0]).groupby('business_id')['useful_r'].count()).to_frame().reset_index()\n",
    "review_business_total = (review.groupby('business_id')['useful_r'].count()).to_frame().reset_index()"
   ]
  },
  {
   "cell_type": "code",
   "execution_count": 20,
   "metadata": {
    "collapsed": true
   },
   "outputs": [],
   "source": [
    "review_4 = pd.merge(review_business_useful, review_business_total, on='business_id' )"
   ]
  },
  {
   "cell_type": "code",
   "execution_count": 21,
   "metadata": {
    "collapsed": true
   },
   "outputs": [],
   "source": [
    "review['useful_r_ratio'] = review_4['useful_r_x']/review_4['useful_r_y']\n",
    "review['useful_r_ratio'] = review['useful_r_ratio'].fillna(0)"
   ]
  },
  {
   "cell_type": "code",
   "execution_count": 22,
   "metadata": {
    "collapsed": true
   },
   "outputs": [],
   "source": [
    "# Std. dev. of useful taken by user\n",
    "review_user_std_dev = (review.groupby('user_id')['useful_r'].std()).to_frame().reset_index()\n",
    "review= pd.merge(review, review_user_std_dev, on='user_id')"
   ]
  },
  {
   "cell_type": "code",
   "execution_count": 23,
   "metadata": {
    "collapsed": true
   },
   "outputs": [],
   "source": [
    "review['useful_r_y'] = review['useful_r_y'].fillna(0)"
   ]
  },
  {
   "cell_type": "code",
   "execution_count": 24,
   "metadata": {
    "collapsed": true
   },
   "outputs": [],
   "source": [
    "review.rename(columns={'useful_r_x':'useful_r','useful_r_y':'review_user_std_dev'}, inplace=True)"
   ]
  },
  {
   "cell_type": "code",
   "execution_count": 25,
   "metadata": {
    "collapsed": true
   },
   "outputs": [],
   "source": [
    "# number of ! and ?\n",
    "review['count_exclamation'] = review['text'].str.count(r'!')"
   ]
  },
  {
   "cell_type": "code",
   "execution_count": 26,
   "metadata": {
    "collapsed": true
   },
   "outputs": [],
   "source": [
    "review['count_question'] = review['text'].str.count(r'\\?')"
   ]
  },
  {
   "cell_type": "code",
   "execution_count": 27,
   "metadata": {
    "collapsed": true
   },
   "outputs": [],
   "source": [
    "# count of stopwords\n",
    "stop_words = set(stopwords.words('english'))"
   ]
  },
  {
   "cell_type": "code",
   "execution_count": 28,
   "metadata": {
    "collapsed": true
   },
   "outputs": [],
   "source": [
    "tokenizer = RegexpTokenizer(r'\\w+')\n",
    "\n",
    "def count_non_stop_words(text):\n",
    "    word_tokens = tokenizer.tokenize(text)\n",
    "    filtered_words = [w for w in word_tokens if not w in stop_words]\n",
    "    return len(filtered_words)\n",
    "\n",
    "review['count_non_stop'] = review['text'].apply(count_non_stop_words)"
   ]
  },
  {
   "cell_type": "code",
   "execution_count": 29,
   "metadata": {},
   "outputs": [
    {
     "data": {
      "text/html": [
       "<div>\n",
       "<style>\n",
       "    .dataframe thead tr:only-child th {\n",
       "        text-align: right;\n",
       "    }\n",
       "\n",
       "    .dataframe thead th {\n",
       "        text-align: left;\n",
       "    }\n",
       "\n",
       "    .dataframe tbody tr th {\n",
       "        vertical-align: top;\n",
       "    }\n",
       "</style>\n",
       "<table border=\"1\" class=\"dataframe\">\n",
       "  <thead>\n",
       "    <tr style=\"text-align: right;\">\n",
       "      <th></th>\n",
       "      <th>business_id</th>\n",
       "      <th>review_date</th>\n",
       "      <th>review_id</th>\n",
       "      <th>stars_review</th>\n",
       "      <th>text</th>\n",
       "      <th>type</th>\n",
       "      <th>user_id</th>\n",
       "      <th>cool_r</th>\n",
       "      <th>funny_r</th>\n",
       "      <th>useful_r</th>\n",
       "      <th>useful_r_ratio</th>\n",
       "      <th>review_user_std_dev</th>\n",
       "      <th>count_exclamation</th>\n",
       "      <th>count_question</th>\n",
       "      <th>count_non_stop</th>\n",
       "    </tr>\n",
       "  </thead>\n",
       "  <tbody>\n",
       "    <tr>\n",
       "      <th>208587</th>\n",
       "      <td>T9BPnYNKtk6B42W0cJJXnA</td>\n",
       "      <td>2010-10-24</td>\n",
       "      <td>fEz6sa7CKXRYnSAU36F65A</td>\n",
       "      <td>5</td>\n",
       "      <td>The cookie Jar is a small family owned cafe in...</td>\n",
       "      <td>review</td>\n",
       "      <td>L2cd3wH0ACFDU7H6efVivA</td>\n",
       "      <td>0</td>\n",
       "      <td>0</td>\n",
       "      <td>0</td>\n",
       "      <td>0.0</td>\n",
       "      <td>0.000000</td>\n",
       "      <td>1</td>\n",
       "      <td>0</td>\n",
       "      <td>57</td>\n",
       "    </tr>\n",
       "    <tr>\n",
       "      <th>93112</th>\n",
       "      <td>wZwZcte4lcbu51NOzCjWbQ</td>\n",
       "      <td>2012-03-09</td>\n",
       "      <td>TS8Tjgv-jVAfC9CYCX7R3w</td>\n",
       "      <td>1</td>\n",
       "      <td>Oh man.. well overpriced drinks, and small por...</td>\n",
       "      <td>review</td>\n",
       "      <td>IjafRfMSAQpInLlw-Vi0Cg</td>\n",
       "      <td>0</td>\n",
       "      <td>2</td>\n",
       "      <td>3</td>\n",
       "      <td>0.0</td>\n",
       "      <td>1.283015</td>\n",
       "      <td>4</td>\n",
       "      <td>0</td>\n",
       "      <td>270</td>\n",
       "    </tr>\n",
       "    <tr>\n",
       "      <th>201544</th>\n",
       "      <td>jWIdwys1qisHa93seORskQ</td>\n",
       "      <td>2011-11-13</td>\n",
       "      <td>MWJelV31jlXVaM6MZUa6Vg</td>\n",
       "      <td>5</td>\n",
       "      <td>These folks are very helpful and nice.  I have...</td>\n",
       "      <td>review</td>\n",
       "      <td>WgYBmknfAwVULzqK__U0FQ</td>\n",
       "      <td>0</td>\n",
       "      <td>0</td>\n",
       "      <td>0</td>\n",
       "      <td>0.0</td>\n",
       "      <td>0.000000</td>\n",
       "      <td>0</td>\n",
       "      <td>0</td>\n",
       "      <td>8</td>\n",
       "    </tr>\n",
       "    <tr>\n",
       "      <th>216058</th>\n",
       "      <td>BZ5Fqx0dTwZgnLzCcMyJaQ</td>\n",
       "      <td>2012-03-10</td>\n",
       "      <td>3mpatAdyyRi5jVNKM4QNHA</td>\n",
       "      <td>5</td>\n",
       "      <td>The owners are amazing and if you become a reg...</td>\n",
       "      <td>review</td>\n",
       "      <td>QGYqh5zG732IdkcDL6AGbw</td>\n",
       "      <td>0</td>\n",
       "      <td>0</td>\n",
       "      <td>1</td>\n",
       "      <td>0.0</td>\n",
       "      <td>0.000000</td>\n",
       "      <td>1</td>\n",
       "      <td>0</td>\n",
       "      <td>47</td>\n",
       "    </tr>\n",
       "    <tr>\n",
       "      <th>29617</th>\n",
       "      <td>H9wnP4BIctmRxMq43NPgAA</td>\n",
       "      <td>2011-09-19</td>\n",
       "      <td>LEWJEQ8KA5GoOVhgTClaug</td>\n",
       "      <td>2</td>\n",
       "      <td>I'd been wanting to go to Talavera ever since ...</td>\n",
       "      <td>review</td>\n",
       "      <td>vsXP832M0kOxKpfduD7dWw</td>\n",
       "      <td>3</td>\n",
       "      <td>2</td>\n",
       "      <td>3</td>\n",
       "      <td>0.0</td>\n",
       "      <td>3.755989</td>\n",
       "      <td>6</td>\n",
       "      <td>0</td>\n",
       "      <td>273</td>\n",
       "    </tr>\n",
       "  </tbody>\n",
       "</table>\n",
       "</div>"
      ],
      "text/plain": [
       "                   business_id review_date               review_id  \\\n",
       "208587  T9BPnYNKtk6B42W0cJJXnA  2010-10-24  fEz6sa7CKXRYnSAU36F65A   \n",
       "93112   wZwZcte4lcbu51NOzCjWbQ  2012-03-09  TS8Tjgv-jVAfC9CYCX7R3w   \n",
       "201544  jWIdwys1qisHa93seORskQ  2011-11-13  MWJelV31jlXVaM6MZUa6Vg   \n",
       "216058  BZ5Fqx0dTwZgnLzCcMyJaQ  2012-03-10  3mpatAdyyRi5jVNKM4QNHA   \n",
       "29617   H9wnP4BIctmRxMq43NPgAA  2011-09-19  LEWJEQ8KA5GoOVhgTClaug   \n",
       "\n",
       "        stars_review                                               text  \\\n",
       "208587             5  The cookie Jar is a small family owned cafe in...   \n",
       "93112              1  Oh man.. well overpriced drinks, and small por...   \n",
       "201544             5  These folks are very helpful and nice.  I have...   \n",
       "216058             5  The owners are amazing and if you become a reg...   \n",
       "29617              2  I'd been wanting to go to Talavera ever since ...   \n",
       "\n",
       "          type                 user_id  cool_r  funny_r  useful_r  \\\n",
       "208587  review  L2cd3wH0ACFDU7H6efVivA       0        0         0   \n",
       "93112   review  IjafRfMSAQpInLlw-Vi0Cg       0        2         3   \n",
       "201544  review  WgYBmknfAwVULzqK__U0FQ       0        0         0   \n",
       "216058  review  QGYqh5zG732IdkcDL6AGbw       0        0         1   \n",
       "29617   review  vsXP832M0kOxKpfduD7dWw       3        2         3   \n",
       "\n",
       "        useful_r_ratio  review_user_std_dev  count_exclamation  \\\n",
       "208587             0.0             0.000000                  1   \n",
       "93112              0.0             1.283015                  4   \n",
       "201544             0.0             0.000000                  0   \n",
       "216058             0.0             0.000000                  1   \n",
       "29617              0.0             3.755989                  6   \n",
       "\n",
       "        count_question  count_non_stop  \n",
       "208587               0              57  \n",
       "93112                0             270  \n",
       "201544               0               8  \n",
       "216058               0              47  \n",
       "29617                0             273  "
      ]
     },
     "execution_count": 29,
     "metadata": {},
     "output_type": "execute_result"
    }
   ],
   "source": [
    "review.sample(5)"
   ]
  },
  {
   "cell_type": "markdown",
   "metadata": {},
   "source": [
    "# Data Cleaning for Checkin Dataset"
   ]
  },
  {
   "cell_type": "code",
   "execution_count": 30,
   "metadata": {},
   "outputs": [
    {
     "data": {
      "text/html": [
       "<div>\n",
       "<style>\n",
       "    .dataframe thead tr:only-child th {\n",
       "        text-align: right;\n",
       "    }\n",
       "\n",
       "    .dataframe thead th {\n",
       "        text-align: left;\n",
       "    }\n",
       "\n",
       "    .dataframe tbody tr th {\n",
       "        vertical-align: top;\n",
       "    }\n",
       "</style>\n",
       "<table border=\"1\" class=\"dataframe\">\n",
       "  <thead>\n",
       "    <tr style=\"text-align: right;\">\n",
       "      <th></th>\n",
       "      <th>business_id</th>\n",
       "      <th>checkin_info</th>\n",
       "      <th>type</th>\n",
       "    </tr>\n",
       "  </thead>\n",
       "  <tbody>\n",
       "    <tr>\n",
       "      <th>1959</th>\n",
       "      <td>YTOU3COVuBdABXb3Wci_IA</td>\n",
       "      <td>{'11-3': 1, '13-2': 1, '15-2': 1, '15-5': 1, '...</td>\n",
       "      <td>checkin</td>\n",
       "    </tr>\n",
       "    <tr>\n",
       "      <th>1190</th>\n",
       "      <td>VD8a_B589J_NlCirS8QA0Q</td>\n",
       "      <td>{'15-0': 1, '14-1': 1, '13-2': 1, '18-5': 1, '...</td>\n",
       "      <td>checkin</td>\n",
       "    </tr>\n",
       "    <tr>\n",
       "      <th>4645</th>\n",
       "      <td>uuRBdIf9jL-qT38PClOIWg</td>\n",
       "      <td>{'10-1': 1, '15-2': 1, '12-3': 1, '14-5': 1, '...</td>\n",
       "      <td>checkin</td>\n",
       "    </tr>\n",
       "  </tbody>\n",
       "</table>\n",
       "</div>"
      ],
      "text/plain": [
       "                 business_id  \\\n",
       "1959  YTOU3COVuBdABXb3Wci_IA   \n",
       "1190  VD8a_B589J_NlCirS8QA0Q   \n",
       "4645  uuRBdIf9jL-qT38PClOIWg   \n",
       "\n",
       "                                           checkin_info     type  \n",
       "1959  {'11-3': 1, '13-2': 1, '15-2': 1, '15-5': 1, '...  checkin  \n",
       "1190  {'15-0': 1, '14-1': 1, '13-2': 1, '18-5': 1, '...  checkin  \n",
       "4645  {'10-1': 1, '15-2': 1, '12-3': 1, '14-5': 1, '...  checkin  "
      ]
     },
     "execution_count": 30,
     "metadata": {},
     "output_type": "execute_result"
    }
   ],
   "source": [
    "checkin.sample(3)"
   ]
  },
  {
   "cell_type": "code",
   "execution_count": 31,
   "metadata": {},
   "outputs": [
    {
     "data": {
      "text/html": [
       "<div>\n",
       "<style>\n",
       "    .dataframe thead tr:only-child th {\n",
       "        text-align: right;\n",
       "    }\n",
       "\n",
       "    .dataframe thead th {\n",
       "        text-align: left;\n",
       "    }\n",
       "\n",
       "    .dataframe tbody tr th {\n",
       "        vertical-align: top;\n",
       "    }\n",
       "</style>\n",
       "<table border=\"1\" class=\"dataframe\">\n",
       "  <thead>\n",
       "    <tr style=\"text-align: right;\">\n",
       "      <th></th>\n",
       "      <th>business_id</th>\n",
       "      <th>type</th>\n",
       "      <th>0-0</th>\n",
       "      <th>0-1</th>\n",
       "      <th>0-2</th>\n",
       "      <th>0-3</th>\n",
       "      <th>0-4</th>\n",
       "      <th>0-5</th>\n",
       "      <th>0-6</th>\n",
       "      <th>1-0</th>\n",
       "      <th>...</th>\n",
       "      <th>8-4</th>\n",
       "      <th>8-5</th>\n",
       "      <th>8-6</th>\n",
       "      <th>9-0</th>\n",
       "      <th>9-1</th>\n",
       "      <th>9-2</th>\n",
       "      <th>9-3</th>\n",
       "      <th>9-4</th>\n",
       "      <th>9-5</th>\n",
       "      <th>9-6</th>\n",
       "    </tr>\n",
       "  </thead>\n",
       "  <tbody>\n",
       "    <tr>\n",
       "      <th>4586</th>\n",
       "      <td>DNLzXOSMH4SpdTnzMe_izA</td>\n",
       "      <td>checkin</td>\n",
       "      <td>NaN</td>\n",
       "      <td>NaN</td>\n",
       "      <td>NaN</td>\n",
       "      <td>NaN</td>\n",
       "      <td>NaN</td>\n",
       "      <td>NaN</td>\n",
       "      <td>NaN</td>\n",
       "      <td>NaN</td>\n",
       "      <td>...</td>\n",
       "      <td>NaN</td>\n",
       "      <td>NaN</td>\n",
       "      <td>NaN</td>\n",
       "      <td>NaN</td>\n",
       "      <td>NaN</td>\n",
       "      <td>NaN</td>\n",
       "      <td>NaN</td>\n",
       "      <td>NaN</td>\n",
       "      <td>NaN</td>\n",
       "      <td>NaN</td>\n",
       "    </tr>\n",
       "    <tr>\n",
       "      <th>4065</th>\n",
       "      <td>d8TYUlRl_YSlZo74qy9hXw</td>\n",
       "      <td>checkin</td>\n",
       "      <td>NaN</td>\n",
       "      <td>NaN</td>\n",
       "      <td>NaN</td>\n",
       "      <td>NaN</td>\n",
       "      <td>NaN</td>\n",
       "      <td>NaN</td>\n",
       "      <td>NaN</td>\n",
       "      <td>NaN</td>\n",
       "      <td>...</td>\n",
       "      <td>NaN</td>\n",
       "      <td>NaN</td>\n",
       "      <td>NaN</td>\n",
       "      <td>NaN</td>\n",
       "      <td>NaN</td>\n",
       "      <td>NaN</td>\n",
       "      <td>NaN</td>\n",
       "      <td>NaN</td>\n",
       "      <td>NaN</td>\n",
       "      <td>NaN</td>\n",
       "    </tr>\n",
       "    <tr>\n",
       "      <th>6262</th>\n",
       "      <td>E_8a66uqjHXsvb4tdGnkXA</td>\n",
       "      <td>checkin</td>\n",
       "      <td>NaN</td>\n",
       "      <td>NaN</td>\n",
       "      <td>NaN</td>\n",
       "      <td>NaN</td>\n",
       "      <td>NaN</td>\n",
       "      <td>NaN</td>\n",
       "      <td>NaN</td>\n",
       "      <td>NaN</td>\n",
       "      <td>...</td>\n",
       "      <td>NaN</td>\n",
       "      <td>NaN</td>\n",
       "      <td>NaN</td>\n",
       "      <td>NaN</td>\n",
       "      <td>NaN</td>\n",
       "      <td>NaN</td>\n",
       "      <td>NaN</td>\n",
       "      <td>NaN</td>\n",
       "      <td>NaN</td>\n",
       "      <td>NaN</td>\n",
       "    </tr>\n",
       "  </tbody>\n",
       "</table>\n",
       "<p>3 rows × 170 columns</p>\n",
       "</div>"
      ],
      "text/plain": [
       "                 business_id     type  0-0  0-1  0-2  0-3  0-4  0-5  0-6  1-0  \\\n",
       "4586  DNLzXOSMH4SpdTnzMe_izA  checkin  NaN  NaN  NaN  NaN  NaN  NaN  NaN  NaN   \n",
       "4065  d8TYUlRl_YSlZo74qy9hXw  checkin  NaN  NaN  NaN  NaN  NaN  NaN  NaN  NaN   \n",
       "6262  E_8a66uqjHXsvb4tdGnkXA  checkin  NaN  NaN  NaN  NaN  NaN  NaN  NaN  NaN   \n",
       "\n",
       "     ...   8-4  8-5  8-6  9-0  9-1  9-2  9-3  9-4  9-5  9-6  \n",
       "4586 ...   NaN  NaN  NaN  NaN  NaN  NaN  NaN  NaN  NaN  NaN  \n",
       "4065 ...   NaN  NaN  NaN  NaN  NaN  NaN  NaN  NaN  NaN  NaN  \n",
       "6262 ...   NaN  NaN  NaN  NaN  NaN  NaN  NaN  NaN  NaN  NaN  \n",
       "\n",
       "[3 rows x 170 columns]"
      ]
     },
     "execution_count": 31,
     "metadata": {},
     "output_type": "execute_result"
    }
   ],
   "source": [
    "checkin_info = checkin['checkin_info'].apply(pd.Series)\n",
    "checkin = pd.concat([checkin, checkin_info], axis=1).drop('checkin_info', axis=1)\n",
    "checkin.sample(3)"
   ]
  },
  {
   "cell_type": "code",
   "execution_count": 32,
   "metadata": {
    "collapsed": true
   },
   "outputs": [],
   "source": [
    "# Popularity according to checkins\n",
    "# Creating buckets for total number of checkins\n",
    "checkin['total'] = checkin.iloc[:,2:].sum(axis=1)"
   ]
  },
  {
   "cell_type": "code",
   "execution_count": 33,
   "metadata": {
    "collapsed": true
   },
   "outputs": [],
   "source": [
    "checkin['popularity_bins'] = pd.qcut(checkin['total'], q=10, labels=[1,2,3,4,5,6,7,8,9,10])"
   ]
  },
  {
   "cell_type": "markdown",
   "metadata": {},
   "source": [
    "# Data Cleaning for User Dataset"
   ]
  },
  {
   "cell_type": "code",
   "execution_count": 34,
   "metadata": {},
   "outputs": [
    {
     "name": "stdout",
     "output_type": "stream",
     "text": [
      "(43873, 6)\n",
      "<class 'pandas.core.frame.DataFrame'>\n",
      "Int64Index: 43873 entries, 0 to 43872\n",
      "Data columns (total 6 columns):\n",
      "average_stars    43873 non-null float64\n",
      "name             43873 non-null object\n",
      "review_count     43873 non-null int64\n",
      "type             43873 non-null object\n",
      "user_id          43873 non-null object\n",
      "votes            43873 non-null object\n",
      "dtypes: float64(1), int64(1), object(4)\n",
      "memory usage: 2.3+ MB\n",
      "None\n"
     ]
    }
   ],
   "source": [
    "print(user.shape)\n",
    "print(user.info())"
   ]
  },
  {
   "cell_type": "code",
   "execution_count": 35,
   "metadata": {},
   "outputs": [
    {
     "data": {
      "text/html": [
       "<div>\n",
       "<style>\n",
       "    .dataframe thead tr:only-child th {\n",
       "        text-align: right;\n",
       "    }\n",
       "\n",
       "    .dataframe thead th {\n",
       "        text-align: left;\n",
       "    }\n",
       "\n",
       "    .dataframe tbody tr th {\n",
       "        vertical-align: top;\n",
       "    }\n",
       "</style>\n",
       "<table border=\"1\" class=\"dataframe\">\n",
       "  <thead>\n",
       "    <tr style=\"text-align: right;\">\n",
       "      <th></th>\n",
       "      <th>stars_user</th>\n",
       "      <th>user_name</th>\n",
       "      <th>review_count_user</th>\n",
       "      <th>type</th>\n",
       "      <th>user_id</th>\n",
       "      <th>cool_u</th>\n",
       "      <th>funny_u</th>\n",
       "      <th>useful_u</th>\n",
       "    </tr>\n",
       "  </thead>\n",
       "  <tbody>\n",
       "    <tr>\n",
       "      <th>15927</th>\n",
       "      <td>5.00</td>\n",
       "      <td>Brian</td>\n",
       "      <td>1</td>\n",
       "      <td>user</td>\n",
       "      <td>NNy1kBkDONGbJ-Bz1zkB3A</td>\n",
       "      <td>0</td>\n",
       "      <td>0</td>\n",
       "      <td>0</td>\n",
       "    </tr>\n",
       "    <tr>\n",
       "      <th>29886</th>\n",
       "      <td>3.47</td>\n",
       "      <td>Jessica</td>\n",
       "      <td>252</td>\n",
       "      <td>user</td>\n",
       "      <td>aowt6Q8OCARWtA7KzluLaw</td>\n",
       "      <td>822</td>\n",
       "      <td>680</td>\n",
       "      <td>1176</td>\n",
       "    </tr>\n",
       "    <tr>\n",
       "      <th>29633</th>\n",
       "      <td>3.72</td>\n",
       "      <td>Sarah</td>\n",
       "      <td>76</td>\n",
       "      <td>user</td>\n",
       "      <td>lv-PGeBWhNtyE_VruptHnQ</td>\n",
       "      <td>65</td>\n",
       "      <td>59</td>\n",
       "      <td>108</td>\n",
       "    </tr>\n",
       "    <tr>\n",
       "      <th>24333</th>\n",
       "      <td>5.00</td>\n",
       "      <td>Nancy</td>\n",
       "      <td>3</td>\n",
       "      <td>user</td>\n",
       "      <td>3QTLKmwhmfEVr5r2OrHO7g</td>\n",
       "      <td>0</td>\n",
       "      <td>1</td>\n",
       "      <td>2</td>\n",
       "    </tr>\n",
       "    <tr>\n",
       "      <th>38712</th>\n",
       "      <td>3.48</td>\n",
       "      <td>Beth</td>\n",
       "      <td>224</td>\n",
       "      <td>user</td>\n",
       "      <td>kG8jkVFgOAOq6Ht6RvAjEQ</td>\n",
       "      <td>174</td>\n",
       "      <td>174</td>\n",
       "      <td>466</td>\n",
       "    </tr>\n",
       "    <tr>\n",
       "      <th>21915</th>\n",
       "      <td>3.75</td>\n",
       "      <td>Nicole</td>\n",
       "      <td>166</td>\n",
       "      <td>user</td>\n",
       "      <td>J78I_XBYrU8buK3c1Pomrg</td>\n",
       "      <td>98</td>\n",
       "      <td>59</td>\n",
       "      <td>188</td>\n",
       "    </tr>\n",
       "    <tr>\n",
       "      <th>31445</th>\n",
       "      <td>4.10</td>\n",
       "      <td>Morgan</td>\n",
       "      <td>201</td>\n",
       "      <td>user</td>\n",
       "      <td>rjlb-7-JcmM6fR64ZpyTug</td>\n",
       "      <td>867</td>\n",
       "      <td>1206</td>\n",
       "      <td>1049</td>\n",
       "    </tr>\n",
       "    <tr>\n",
       "      <th>6104</th>\n",
       "      <td>4.50</td>\n",
       "      <td>Tiffany</td>\n",
       "      <td>2</td>\n",
       "      <td>user</td>\n",
       "      <td>ijGVaqRNIc1dNepOT03p2A</td>\n",
       "      <td>0</td>\n",
       "      <td>0</td>\n",
       "      <td>2</td>\n",
       "    </tr>\n",
       "    <tr>\n",
       "      <th>32919</th>\n",
       "      <td>3.74</td>\n",
       "      <td>Michael</td>\n",
       "      <td>46</td>\n",
       "      <td>user</td>\n",
       "      <td>yGs16xQiN3dLo03OQyto8A</td>\n",
       "      <td>36</td>\n",
       "      <td>26</td>\n",
       "      <td>59</td>\n",
       "    </tr>\n",
       "    <tr>\n",
       "      <th>41412</th>\n",
       "      <td>5.00</td>\n",
       "      <td>Gabriella</td>\n",
       "      <td>3</td>\n",
       "      <td>user</td>\n",
       "      <td>yulZL9PSXXy0F2arE8FKuw</td>\n",
       "      <td>0</td>\n",
       "      <td>0</td>\n",
       "      <td>0</td>\n",
       "    </tr>\n",
       "  </tbody>\n",
       "</table>\n",
       "</div>"
      ],
      "text/plain": [
       "       stars_user  user_name  review_count_user  type                 user_id  \\\n",
       "15927        5.00      Brian                  1  user  NNy1kBkDONGbJ-Bz1zkB3A   \n",
       "29886        3.47    Jessica                252  user  aowt6Q8OCARWtA7KzluLaw   \n",
       "29633        3.72      Sarah                 76  user  lv-PGeBWhNtyE_VruptHnQ   \n",
       "24333        5.00      Nancy                  3  user  3QTLKmwhmfEVr5r2OrHO7g   \n",
       "38712        3.48       Beth                224  user  kG8jkVFgOAOq6Ht6RvAjEQ   \n",
       "21915        3.75     Nicole                166  user  J78I_XBYrU8buK3c1Pomrg   \n",
       "31445        4.10     Morgan                201  user  rjlb-7-JcmM6fR64ZpyTug   \n",
       "6104         4.50    Tiffany                  2  user  ijGVaqRNIc1dNepOT03p2A   \n",
       "32919        3.74    Michael                 46  user  yGs16xQiN3dLo03OQyto8A   \n",
       "41412        5.00  Gabriella                  3  user  yulZL9PSXXy0F2arE8FKuw   \n",
       "\n",
       "       cool_u  funny_u  useful_u  \n",
       "15927       0        0         0  \n",
       "29886     822      680      1176  \n",
       "29633      65       59       108  \n",
       "24333       0        1         2  \n",
       "38712     174      174       466  \n",
       "21915      98       59       188  \n",
       "31445     867     1206      1049  \n",
       "6104        0        0         2  \n",
       "32919      36       26        59  \n",
       "41412       0        0         0  "
      ]
     },
     "execution_count": 35,
     "metadata": {},
     "output_type": "execute_result"
    }
   ],
   "source": [
    "user_votes = user['votes'].apply(pd.Series)\n",
    "user = pd.concat([user, user_votes], axis=1).drop('votes', axis=1)\n",
    "user.rename(columns={'name':'user_name','average_stars':'stars_user','review_count':'review_count_user','cool':'cool_u','funny':'funny_u','useful':'useful_u'}, inplace=True)\n",
    "user.sample(10)"
   ]
  },
  {
   "cell_type": "code",
   "execution_count": 36,
   "metadata": {},
   "outputs": [
    {
     "data": {
      "text/plain": [
       "0"
      ]
     },
     "execution_count": 36,
     "metadata": {},
     "output_type": "execute_result"
    }
   ],
   "source": [
    "user['stars_user'].isnull().sum()"
   ]
  },
  {
   "cell_type": "code",
   "execution_count": 37,
   "metadata": {},
   "outputs": [
    {
     "data": {
      "text/html": [
       "<div>\n",
       "<style>\n",
       "    .dataframe thead tr:only-child th {\n",
       "        text-align: right;\n",
       "    }\n",
       "\n",
       "    .dataframe thead th {\n",
       "        text-align: left;\n",
       "    }\n",
       "\n",
       "    .dataframe tbody tr th {\n",
       "        vertical-align: top;\n",
       "    }\n",
       "</style>\n",
       "<table border=\"1\" class=\"dataframe\">\n",
       "  <thead>\n",
       "    <tr style=\"text-align: right;\">\n",
       "      <th></th>\n",
       "      <th>stars_user</th>\n",
       "      <th>user_name</th>\n",
       "      <th>review_count_user</th>\n",
       "      <th>type</th>\n",
       "      <th>user_id</th>\n",
       "      <th>cool_u</th>\n",
       "      <th>funny_u</th>\n",
       "      <th>useful_u</th>\n",
       "    </tr>\n",
       "  </thead>\n",
       "  <tbody>\n",
       "    <tr>\n",
       "      <th>14799</th>\n",
       "      <td>3.00</td>\n",
       "      <td>Mel</td>\n",
       "      <td>5</td>\n",
       "      <td>user</td>\n",
       "      <td>5B1r6kW7c5SCvJjXnX_KbA</td>\n",
       "      <td>0</td>\n",
       "      <td>2</td>\n",
       "      <td>10</td>\n",
       "    </tr>\n",
       "    <tr>\n",
       "      <th>29661</th>\n",
       "      <td>4.50</td>\n",
       "      <td>Jason</td>\n",
       "      <td>2</td>\n",
       "      <td>user</td>\n",
       "      <td>w-BbcR34gpoY0thRiPhZTg</td>\n",
       "      <td>1</td>\n",
       "      <td>0</td>\n",
       "      <td>3</td>\n",
       "    </tr>\n",
       "    <tr>\n",
       "      <th>13053</th>\n",
       "      <td>3.28</td>\n",
       "      <td>Melinda</td>\n",
       "      <td>32</td>\n",
       "      <td>user</td>\n",
       "      <td>L8NC1S3O0AgBwrysvG1wfw</td>\n",
       "      <td>6</td>\n",
       "      <td>6</td>\n",
       "      <td>16</td>\n",
       "    </tr>\n",
       "    <tr>\n",
       "      <th>20323</th>\n",
       "      <td>4.25</td>\n",
       "      <td>Lynden</td>\n",
       "      <td>4</td>\n",
       "      <td>user</td>\n",
       "      <td>-C_WmWe4ZlqScasDkkPmyw</td>\n",
       "      <td>0</td>\n",
       "      <td>0</td>\n",
       "      <td>1</td>\n",
       "    </tr>\n",
       "    <tr>\n",
       "      <th>28444</th>\n",
       "      <td>3.59</td>\n",
       "      <td>Brendan</td>\n",
       "      <td>176</td>\n",
       "      <td>user</td>\n",
       "      <td>WqZVd4CcChyrVrF9Z18b_g</td>\n",
       "      <td>1020</td>\n",
       "      <td>515</td>\n",
       "      <td>1035</td>\n",
       "    </tr>\n",
       "    <tr>\n",
       "      <th>26087</th>\n",
       "      <td>3.89</td>\n",
       "      <td>Jean</td>\n",
       "      <td>19</td>\n",
       "      <td>user</td>\n",
       "      <td>DzyhS4ScfAq6T5r--HFXmQ</td>\n",
       "      <td>3</td>\n",
       "      <td>3</td>\n",
       "      <td>15</td>\n",
       "    </tr>\n",
       "    <tr>\n",
       "      <th>2710</th>\n",
       "      <td>3.86</td>\n",
       "      <td>Trent</td>\n",
       "      <td>7</td>\n",
       "      <td>user</td>\n",
       "      <td>7nG2ux7uLpARvKZCwYTzug</td>\n",
       "      <td>0</td>\n",
       "      <td>0</td>\n",
       "      <td>2</td>\n",
       "    </tr>\n",
       "    <tr>\n",
       "      <th>32049</th>\n",
       "      <td>5.00</td>\n",
       "      <td>RJ</td>\n",
       "      <td>1</td>\n",
       "      <td>user</td>\n",
       "      <td>sV9S3kMhbNoNwmlELyR3oA</td>\n",
       "      <td>0</td>\n",
       "      <td>0</td>\n",
       "      <td>0</td>\n",
       "    </tr>\n",
       "    <tr>\n",
       "      <th>6827</th>\n",
       "      <td>3.84</td>\n",
       "      <td>Mel</td>\n",
       "      <td>92</td>\n",
       "      <td>user</td>\n",
       "      <td>lsp7p2NuC5MX4_iuch3_OA</td>\n",
       "      <td>42</td>\n",
       "      <td>31</td>\n",
       "      <td>103</td>\n",
       "    </tr>\n",
       "    <tr>\n",
       "      <th>1013</th>\n",
       "      <td>1.00</td>\n",
       "      <td>Frank</td>\n",
       "      <td>1</td>\n",
       "      <td>user</td>\n",
       "      <td>28xXZ5meSgcMVkB7Hk4cDA</td>\n",
       "      <td>1</td>\n",
       "      <td>1</td>\n",
       "      <td>6</td>\n",
       "    </tr>\n",
       "  </tbody>\n",
       "</table>\n",
       "</div>"
      ],
      "text/plain": [
       "       stars_user user_name  review_count_user  type                 user_id  \\\n",
       "14799        3.00       Mel                  5  user  5B1r6kW7c5SCvJjXnX_KbA   \n",
       "29661        4.50     Jason                  2  user  w-BbcR34gpoY0thRiPhZTg   \n",
       "13053        3.28   Melinda                 32  user  L8NC1S3O0AgBwrysvG1wfw   \n",
       "20323        4.25    Lynden                  4  user  -C_WmWe4ZlqScasDkkPmyw   \n",
       "28444        3.59   Brendan                176  user  WqZVd4CcChyrVrF9Z18b_g   \n",
       "26087        3.89      Jean                 19  user  DzyhS4ScfAq6T5r--HFXmQ   \n",
       "2710         3.86     Trent                  7  user  7nG2ux7uLpARvKZCwYTzug   \n",
       "32049        5.00        RJ                  1  user  sV9S3kMhbNoNwmlELyR3oA   \n",
       "6827         3.84       Mel                 92  user  lsp7p2NuC5MX4_iuch3_OA   \n",
       "1013         1.00     Frank                  1  user  28xXZ5meSgcMVkB7Hk4cDA   \n",
       "\n",
       "       cool_u  funny_u  useful_u  \n",
       "14799       0        2        10  \n",
       "29661       1        0         3  \n",
       "13053       6        6        16  \n",
       "20323       0        0         1  \n",
       "28444    1020      515      1035  \n",
       "26087       3        3        15  \n",
       "2710        0        0         2  \n",
       "32049       0        0         0  \n",
       "6827       42       31       103  \n",
       "1013        1        1         6  "
      ]
     },
     "execution_count": 37,
     "metadata": {},
     "output_type": "execute_result"
    }
   ],
   "source": [
    "user.sample(10)"
   ]
  },
  {
   "cell_type": "code",
   "execution_count": 38,
   "metadata": {
    "collapsed": true
   },
   "outputs": [],
   "source": [
    "review_2 = review.copy()\n",
    "review_4 = review.copy()"
   ]
  },
  {
   "cell_type": "code",
   "execution_count": 39,
   "metadata": {
    "collapsed": true
   },
   "outputs": [],
   "source": [
    "# Review lenght is important?\n",
    "review_2['text_length'] = review_2['text'].apply(len)\n",
    "review_4['text_length'] = review_2['text'].apply(len)"
   ]
  },
  {
   "cell_type": "code",
   "execution_count": 40,
   "metadata": {
    "collapsed": true
   },
   "outputs": [],
   "source": [
    "review_2 = pd.merge(review_2, user, how='left', on='user_id')\n",
    "review_4 = pd.merge(review_4, user, how='left', on='user_id')"
   ]
  },
  {
   "cell_type": "code",
   "execution_count": 41,
   "metadata": {
    "collapsed": true
   },
   "outputs": [],
   "source": [
    "review_2 = pd.merge(review_2, checkin[['business_id','popularity_bins']], how='left', on='business_id')\n",
    "review_4 = pd.merge(review_4, checkin[['business_id','popularity_bins']], how='left', on='business_id')"
   ]
  },
  {
   "cell_type": "code",
   "execution_count": 42,
   "metadata": {
    "collapsed": true
   },
   "outputs": [],
   "source": [
    "review_2 = pd.merge(review_2, business, how='left', on='business_id')\n",
    "review_4 = pd.merge(review_4, business_2, how='left', on='business_id')"
   ]
  },
  {
   "cell_type": "code",
   "execution_count": 43,
   "metadata": {},
   "outputs": [
    {
     "data": {
      "text/html": [
       "<div>\n",
       "<style>\n",
       "    .dataframe thead tr:only-child th {\n",
       "        text-align: right;\n",
       "    }\n",
       "\n",
       "    .dataframe thead th {\n",
       "        text-align: left;\n",
       "    }\n",
       "\n",
       "    .dataframe tbody tr th {\n",
       "        vertical-align: top;\n",
       "    }\n",
       "</style>\n",
       "<table border=\"1\" class=\"dataframe\">\n",
       "  <thead>\n",
       "    <tr style=\"text-align: right;\">\n",
       "      <th></th>\n",
       "      <th>business_id</th>\n",
       "      <th>review_date</th>\n",
       "      <th>review_id</th>\n",
       "      <th>stars_review</th>\n",
       "      <th>text</th>\n",
       "      <th>type_x</th>\n",
       "      <th>user_id</th>\n",
       "      <th>cool_r</th>\n",
       "      <th>funny_r</th>\n",
       "      <th>useful_r</th>\n",
       "      <th>useful_r_ratio</th>\n",
       "      <th>review_user_std_dev</th>\n",
       "      <th>count_exclamation</th>\n",
       "      <th>count_question</th>\n",
       "      <th>count_non_stop</th>\n",
       "      <th>text_length</th>\n",
       "      <th>stars_user</th>\n",
       "    </tr>\n",
       "  </thead>\n",
       "  <tbody>\n",
       "    <tr>\n",
       "      <th>0</th>\n",
       "      <td>9yKzy9PApeiPPOUJEtnvkg</td>\n",
       "      <td>2011-01-26</td>\n",
       "      <td>fWKvX83p0-ka4JS3dc6E5A</td>\n",
       "      <td>5</td>\n",
       "      <td>My wife took me here on my birthday for breakf...</td>\n",
       "      <td>review</td>\n",
       "      <td>rLtl8ZkDX5vH5nAx9C3q5Q</td>\n",
       "      <td>2</td>\n",
       "      <td>0</td>\n",
       "      <td>5</td>\n",
       "      <td>0.545455</td>\n",
       "      <td>1.266139</td>\n",
       "      <td>1</td>\n",
       "      <td>0</td>\n",
       "      <td>93</td>\n",
       "      <td>889</td>\n",
       "      <td>3.72</td>\n",
       "    </tr>\n",
       "    <tr>\n",
       "      <th>1</th>\n",
       "      <td>wzP2yNpV5p04nh0injjymA</td>\n",
       "      <td>2010-05-26</td>\n",
       "      <td>ChBeixVZerfFkeO0McdlbA</td>\n",
       "      <td>4</td>\n",
       "      <td>This place is great.  A nice little ole' fashi...</td>\n",
       "      <td>review</td>\n",
       "      <td>rLtl8ZkDX5vH5nAx9C3q5Q</td>\n",
       "      <td>0</td>\n",
       "      <td>0</td>\n",
       "      <td>0</td>\n",
       "      <td>1.000000</td>\n",
       "      <td>1.266139</td>\n",
       "      <td>2</td>\n",
       "      <td>0</td>\n",
       "      <td>109</td>\n",
       "      <td>1012</td>\n",
       "      <td>3.72</td>\n",
       "    </tr>\n",
       "    <tr>\n",
       "      <th>2</th>\n",
       "      <td>8m08a9xJKmANwmeuR-0bPA</td>\n",
       "      <td>2011-09-07</td>\n",
       "      <td>k_irkIDyZ9_bDeE4J29u0g</td>\n",
       "      <td>4</td>\n",
       "      <td>I went here last night with my wife to celebra...</td>\n",
       "      <td>review</td>\n",
       "      <td>rLtl8ZkDX5vH5nAx9C3q5Q</td>\n",
       "      <td>1</td>\n",
       "      <td>1</td>\n",
       "      <td>3</td>\n",
       "      <td>0.250000</td>\n",
       "      <td>1.266139</td>\n",
       "      <td>0</td>\n",
       "      <td>0</td>\n",
       "      <td>302</td>\n",
       "      <td>2890</td>\n",
       "      <td>3.72</td>\n",
       "    </tr>\n",
       "    <tr>\n",
       "      <th>3</th>\n",
       "      <td>r3r_bAfa6pZKIhQB82FizQ</td>\n",
       "      <td>2010-09-27</td>\n",
       "      <td>Aig77qNnNFDKFLiML6F5pQ</td>\n",
       "      <td>4</td>\n",
       "      <td>I went here Saturday night with a party of 4. ...</td>\n",
       "      <td>review</td>\n",
       "      <td>rLtl8ZkDX5vH5nAx9C3q5Q</td>\n",
       "      <td>1</td>\n",
       "      <td>1</td>\n",
       "      <td>1</td>\n",
       "      <td>0.333333</td>\n",
       "      <td>1.266139</td>\n",
       "      <td>1</td>\n",
       "      <td>1</td>\n",
       "      <td>139</td>\n",
       "      <td>1246</td>\n",
       "      <td>3.72</td>\n",
       "    </tr>\n",
       "  </tbody>\n",
       "</table>\n",
       "</div>"
      ],
      "text/plain": [
       "              business_id review_date               review_id  stars_review  \\\n",
       "0  9yKzy9PApeiPPOUJEtnvkg  2011-01-26  fWKvX83p0-ka4JS3dc6E5A             5   \n",
       "1  wzP2yNpV5p04nh0injjymA  2010-05-26  ChBeixVZerfFkeO0McdlbA             4   \n",
       "2  8m08a9xJKmANwmeuR-0bPA  2011-09-07  k_irkIDyZ9_bDeE4J29u0g             4   \n",
       "3  r3r_bAfa6pZKIhQB82FizQ  2010-09-27  Aig77qNnNFDKFLiML6F5pQ             4   \n",
       "\n",
       "                                                text  type_x  \\\n",
       "0  My wife took me here on my birthday for breakf...  review   \n",
       "1  This place is great.  A nice little ole' fashi...  review   \n",
       "2  I went here last night with my wife to celebra...  review   \n",
       "3  I went here Saturday night with a party of 4. ...  review   \n",
       "\n",
       "                  user_id  cool_r  funny_r  useful_r  useful_r_ratio  \\\n",
       "0  rLtl8ZkDX5vH5nAx9C3q5Q       2        0         5        0.545455   \n",
       "1  rLtl8ZkDX5vH5nAx9C3q5Q       0        0         0        1.000000   \n",
       "2  rLtl8ZkDX5vH5nAx9C3q5Q       1        1         3        0.250000   \n",
       "3  rLtl8ZkDX5vH5nAx9C3q5Q       1        1         1        0.333333   \n",
       "\n",
       "   review_user_std_dev  count_exclamation  count_question  count_non_stop  \\\n",
       "0             1.266139                  1               0              93   \n",
       "1             1.266139                  2               0             109   \n",
       "2             1.266139                  0               0             302   \n",
       "3             1.266139                  1               1             139   \n",
       "\n",
       "   text_length  stars_user  \n",
       "0          889        3.72  \n",
       "1         1012        3.72  \n",
       "2         2890        3.72  \n",
       "3         1246        3.72  "
      ]
     },
     "execution_count": 43,
     "metadata": {},
     "output_type": "execute_result"
    }
   ],
   "source": [
    "review_2.iloc[:4,:17]"
   ]
  },
  {
   "cell_type": "code",
   "execution_count": 44,
   "metadata": {
    "collapsed": true
   },
   "outputs": [],
   "source": [
    "diff = pd.to_datetime(np.max(review_2['review_date'])) - pd.to_datetime(review_2['review_date'], errors='coerce')\n",
    "review_2['review_date'] = abs(diff / np.timedelta64(1,'D'))"
   ]
  },
  {
   "cell_type": "code",
   "execution_count": 45,
   "metadata": {
    "collapsed": true
   },
   "outputs": [],
   "source": [
    "diff = pd.to_datetime(np.max(review_4['review_date'])) - pd.to_datetime(review_4['review_date'], errors='coerce')\n",
    "review_4['review_date'] = abs(diff / np.timedelta64(1,'D'))"
   ]
  },
  {
   "cell_type": "code",
   "execution_count": 46,
   "metadata": {},
   "outputs": [
    {
     "data": {
      "text/html": [
       "<div>\n",
       "<style>\n",
       "    .dataframe thead tr:only-child th {\n",
       "        text-align: right;\n",
       "    }\n",
       "\n",
       "    .dataframe thead th {\n",
       "        text-align: left;\n",
       "    }\n",
       "\n",
       "    .dataframe tbody tr th {\n",
       "        vertical-align: top;\n",
       "    }\n",
       "</style>\n",
       "<table border=\"1\" class=\"dataframe\">\n",
       "  <thead>\n",
       "    <tr style=\"text-align: right;\">\n",
       "      <th></th>\n",
       "      <th>business_id</th>\n",
       "      <th>review_date</th>\n",
       "      <th>review_id</th>\n",
       "      <th>stars_review</th>\n",
       "      <th>text</th>\n",
       "      <th>type_x</th>\n",
       "      <th>user_id</th>\n",
       "      <th>cool_r</th>\n",
       "      <th>funny_r</th>\n",
       "      <th>useful_r</th>\n",
       "      <th>useful_r_ratio</th>\n",
       "      <th>review_user_std_dev</th>\n",
       "      <th>count_exclamation</th>\n",
       "      <th>count_question</th>\n",
       "      <th>count_non_stop</th>\n",
       "      <th>text_length</th>\n",
       "      <th>stars_user</th>\n",
       "      <th>user_name</th>\n",
       "      <th>review_count_user</th>\n",
       "      <th>type_y</th>\n",
       "    </tr>\n",
       "  </thead>\n",
       "  <tbody>\n",
       "    <tr>\n",
       "      <th>0</th>\n",
       "      <td>9yKzy9PApeiPPOUJEtnvkg</td>\n",
       "      <td>710.0</td>\n",
       "      <td>fWKvX83p0-ka4JS3dc6E5A</td>\n",
       "      <td>5</td>\n",
       "      <td>My wife took me here on my birthday for breakf...</td>\n",
       "      <td>review</td>\n",
       "      <td>rLtl8ZkDX5vH5nAx9C3q5Q</td>\n",
       "      <td>2</td>\n",
       "      <td>0</td>\n",
       "      <td>5</td>\n",
       "      <td>0.545455</td>\n",
       "      <td>1.266139</td>\n",
       "      <td>1</td>\n",
       "      <td>0</td>\n",
       "      <td>93</td>\n",
       "      <td>889</td>\n",
       "      <td>3.72</td>\n",
       "      <td>Jason</td>\n",
       "      <td>376.0</td>\n",
       "      <td>user</td>\n",
       "    </tr>\n",
       "    <tr>\n",
       "      <th>1</th>\n",
       "      <td>wzP2yNpV5p04nh0injjymA</td>\n",
       "      <td>955.0</td>\n",
       "      <td>ChBeixVZerfFkeO0McdlbA</td>\n",
       "      <td>4</td>\n",
       "      <td>This place is great.  A nice little ole' fashi...</td>\n",
       "      <td>review</td>\n",
       "      <td>rLtl8ZkDX5vH5nAx9C3q5Q</td>\n",
       "      <td>0</td>\n",
       "      <td>0</td>\n",
       "      <td>0</td>\n",
       "      <td>1.000000</td>\n",
       "      <td>1.266139</td>\n",
       "      <td>2</td>\n",
       "      <td>0</td>\n",
       "      <td>109</td>\n",
       "      <td>1012</td>\n",
       "      <td>3.72</td>\n",
       "      <td>Jason</td>\n",
       "      <td>376.0</td>\n",
       "      <td>user</td>\n",
       "    </tr>\n",
       "    <tr>\n",
       "      <th>2</th>\n",
       "      <td>8m08a9xJKmANwmeuR-0bPA</td>\n",
       "      <td>486.0</td>\n",
       "      <td>k_irkIDyZ9_bDeE4J29u0g</td>\n",
       "      <td>4</td>\n",
       "      <td>I went here last night with my wife to celebra...</td>\n",
       "      <td>review</td>\n",
       "      <td>rLtl8ZkDX5vH5nAx9C3q5Q</td>\n",
       "      <td>1</td>\n",
       "      <td>1</td>\n",
       "      <td>3</td>\n",
       "      <td>0.250000</td>\n",
       "      <td>1.266139</td>\n",
       "      <td>0</td>\n",
       "      <td>0</td>\n",
       "      <td>302</td>\n",
       "      <td>2890</td>\n",
       "      <td>3.72</td>\n",
       "      <td>Jason</td>\n",
       "      <td>376.0</td>\n",
       "      <td>user</td>\n",
       "    </tr>\n",
       "    <tr>\n",
       "      <th>3</th>\n",
       "      <td>r3r_bAfa6pZKIhQB82FizQ</td>\n",
       "      <td>831.0</td>\n",
       "      <td>Aig77qNnNFDKFLiML6F5pQ</td>\n",
       "      <td>4</td>\n",
       "      <td>I went here Saturday night with a party of 4. ...</td>\n",
       "      <td>review</td>\n",
       "      <td>rLtl8ZkDX5vH5nAx9C3q5Q</td>\n",
       "      <td>1</td>\n",
       "      <td>1</td>\n",
       "      <td>1</td>\n",
       "      <td>0.333333</td>\n",
       "      <td>1.266139</td>\n",
       "      <td>1</td>\n",
       "      <td>1</td>\n",
       "      <td>139</td>\n",
       "      <td>1246</td>\n",
       "      <td>3.72</td>\n",
       "      <td>Jason</td>\n",
       "      <td>376.0</td>\n",
       "      <td>user</td>\n",
       "    </tr>\n",
       "    <tr>\n",
       "      <th>4</th>\n",
       "      <td>hh2lP4_2N-tk_OxmaTf_qA</td>\n",
       "      <td>1263.0</td>\n",
       "      <td>NMz3gC5nOSbKZJG_UjpASg</td>\n",
       "      <td>3</td>\n",
       "      <td>I have been wanting to eat here since it opene...</td>\n",
       "      <td>review</td>\n",
       "      <td>rLtl8ZkDX5vH5nAx9C3q5Q</td>\n",
       "      <td>0</td>\n",
       "      <td>0</td>\n",
       "      <td>0</td>\n",
       "      <td>1.000000</td>\n",
       "      <td>1.266139</td>\n",
       "      <td>0</td>\n",
       "      <td>0</td>\n",
       "      <td>124</td>\n",
       "      <td>1178</td>\n",
       "      <td>3.72</td>\n",
       "      <td>Jason</td>\n",
       "      <td>376.0</td>\n",
       "      <td>user</td>\n",
       "    </tr>\n",
       "  </tbody>\n",
       "</table>\n",
       "</div>"
      ],
      "text/plain": [
       "              business_id  review_date               review_id  stars_review  \\\n",
       "0  9yKzy9PApeiPPOUJEtnvkg        710.0  fWKvX83p0-ka4JS3dc6E5A             5   \n",
       "1  wzP2yNpV5p04nh0injjymA        955.0  ChBeixVZerfFkeO0McdlbA             4   \n",
       "2  8m08a9xJKmANwmeuR-0bPA        486.0  k_irkIDyZ9_bDeE4J29u0g             4   \n",
       "3  r3r_bAfa6pZKIhQB82FizQ        831.0  Aig77qNnNFDKFLiML6F5pQ             4   \n",
       "4  hh2lP4_2N-tk_OxmaTf_qA       1263.0  NMz3gC5nOSbKZJG_UjpASg             3   \n",
       "\n",
       "                                                text  type_x  \\\n",
       "0  My wife took me here on my birthday for breakf...  review   \n",
       "1  This place is great.  A nice little ole' fashi...  review   \n",
       "2  I went here last night with my wife to celebra...  review   \n",
       "3  I went here Saturday night with a party of 4. ...  review   \n",
       "4  I have been wanting to eat here since it opene...  review   \n",
       "\n",
       "                  user_id  cool_r  funny_r  useful_r  useful_r_ratio  \\\n",
       "0  rLtl8ZkDX5vH5nAx9C3q5Q       2        0         5        0.545455   \n",
       "1  rLtl8ZkDX5vH5nAx9C3q5Q       0        0         0        1.000000   \n",
       "2  rLtl8ZkDX5vH5nAx9C3q5Q       1        1         3        0.250000   \n",
       "3  rLtl8ZkDX5vH5nAx9C3q5Q       1        1         1        0.333333   \n",
       "4  rLtl8ZkDX5vH5nAx9C3q5Q       0        0         0        1.000000   \n",
       "\n",
       "   review_user_std_dev  count_exclamation  count_question  count_non_stop  \\\n",
       "0             1.266139                  1               0              93   \n",
       "1             1.266139                  2               0             109   \n",
       "2             1.266139                  0               0             302   \n",
       "3             1.266139                  1               1             139   \n",
       "4             1.266139                  0               0             124   \n",
       "\n",
       "   text_length  stars_user user_name  review_count_user type_y  \n",
       "0          889        3.72     Jason              376.0   user  \n",
       "1         1012        3.72     Jason              376.0   user  \n",
       "2         2890        3.72     Jason              376.0   user  \n",
       "3         1246        3.72     Jason              376.0   user  \n",
       "4         1178        3.72     Jason              376.0   user  "
      ]
     },
     "execution_count": 46,
     "metadata": {},
     "output_type": "execute_result"
    }
   ],
   "source": [
    "review_2.iloc[:5,:20]"
   ]
  },
  {
   "cell_type": "code",
   "execution_count": 47,
   "metadata": {
    "collapsed": true
   },
   "outputs": [],
   "source": [
    "review_3 = review_2[['review_date','stars_review','useful_r','text_length','stars_user',\n",
    "                    'review_count_user','cool_u','funny_u','useful_u','review_count_business',\n",
    "                    'stars_business','popularity_bins','count_exclamation','count_question',\n",
    "                    'count_non_stop','useful_r_ratio','review_user_std_dev']].copy()\n",
    "\n",
    "# without 'cool_r','funny_r',"
   ]
  },
  {
   "cell_type": "code",
   "execution_count": 48,
   "metadata": {
    "collapsed": true
   },
   "outputs": [],
   "source": [
    "# How about number of useful given by user / review count by user? (mean)\n",
    "review_3['useful_per_review_u'] = review_3['useful_u']/review_3['review_count_user']\n",
    "review_3['funny_per_review_u'] = review_3['funny_u']/review_3['review_count_user']\n",
    "review_3['cool_per_review_u'] = review_3['cool_u']/review_3['review_count_user']\n",
    "review_3 = review_3.drop(['useful_u','funny_u','cool_u'],1)"
   ]
  },
  {
   "cell_type": "code",
   "execution_count": 49,
   "metadata": {
    "collapsed": true
   },
   "outputs": [],
   "source": [
    "review_4['useful_per_review_u'] = review_4['useful_u']/review_4['review_count_user']\n",
    "review_4['funny_per_review_u'] = review_4['funny_u']/review_4['review_count_user']\n",
    "review_4['cool_per_review_u'] = review_4['cool_u']/review_4['review_count_user']\n",
    "review_4 = review_4.drop(['useful_u','funny_u','cool_u'],1)"
   ]
  },
  {
   "cell_type": "code",
   "execution_count": 50,
   "metadata": {},
   "outputs": [
    {
     "data": {
      "text/plain": [
       "(229907, 17)"
      ]
     },
     "execution_count": 50,
     "metadata": {},
     "output_type": "execute_result"
    }
   ],
   "source": [
    "review_3.shape"
   ]
  },
  {
   "cell_type": "code",
   "execution_count": 51,
   "metadata": {
    "collapsed": true
   },
   "outputs": [],
   "source": [
    "review_3.dropna(how='any', subset=[['stars_user','review_count_user','popularity_bins']], inplace=True)"
   ]
  },
  {
   "cell_type": "code",
   "execution_count": 52,
   "metadata": {
    "collapsed": true
   },
   "outputs": [],
   "source": [
    "review_4.dropna(how='any', subset=[['stars_user','review_count_user','popularity_bins']], inplace=True)"
   ]
  },
  {
   "cell_type": "code",
   "execution_count": 53,
   "metadata": {},
   "outputs": [
    {
     "data": {
      "text/plain": [
       "(200473, 17)"
      ]
     },
     "execution_count": 53,
     "metadata": {},
     "output_type": "execute_result"
    }
   ],
   "source": [
    "review_3.shape"
   ]
  },
  {
   "cell_type": "code",
   "execution_count": 54,
   "metadata": {},
   "outputs": [
    {
     "data": {
      "text/plain": [
       "0"
      ]
     },
     "execution_count": 54,
     "metadata": {},
     "output_type": "execute_result"
    }
   ],
   "source": [
    "review_3.stars_user.isnull().sum()"
   ]
  },
  {
   "cell_type": "markdown",
   "metadata": {},
   "source": [
    "# Visual Exploration"
   ]
  },
  {
   "cell_type": "code",
   "execution_count": 55,
   "metadata": {
    "collapsed": true
   },
   "outputs": [],
   "source": [
    "review_4 = review_4.drop(['business_id','review_id','text','type_x','user_id','user_name','type_y','city',\n",
    "                          'full_address','latitude','longitude','name','neighborhoods','open','state','type',\n",
    "                          'cool_r','funny_r'],axis=1)"
   ]
  },
  {
   "cell_type": "code",
   "execution_count": 56,
   "metadata": {
    "collapsed": true
   },
   "outputs": [],
   "source": [
    "review_4 = review_4.drop(review_4.columns[14], axis=1)"
   ]
  },
  {
   "cell_type": "code",
   "execution_count": 57,
   "metadata": {
    "collapsed": true
   },
   "outputs": [],
   "source": [
    "sns.set(color_codes=True)"
   ]
  },
  {
   "cell_type": "code",
   "execution_count": 58,
   "metadata": {},
   "outputs": [
    {
     "data": {
      "image/png": "[encoded data removed]",
      "text/plain": [
       "<matplotlib.figure.Figure at 0x1a317e2c50>"
      ]
     },
     "metadata": {},
     "output_type": "display_data"
    }
   ],
   "source": [
    "# Distribution of useful votes\n",
    "sns.distplot(review_4.useful_r)\n",
    "plt.title('Distribution of Useful Vote Numbers')\n",
    "#plt.savefig('dist_1.png')\n",
    "plt.show()\n",
    "\n",
    "# Useful vote numbers are distributed between 0 and 80 at most.\n",
    "# Most of the reviews has no useful vote! \n",
    "# 1) Make users write more useful reviews\n",
    "# 2) Make users vote more!"
   ]
  },
  {
   "cell_type": "code",
   "execution_count": 59,
   "metadata": {},
   "outputs": [
    {
     "data": {
      "image/png": "[encoded data removed]",
      "text/plain": [
       "<matplotlib.figure.Figure at 0x1a317a20b8>"
      ]
     },
     "metadata": {},
     "output_type": "display_data"
    }
   ],
   "source": [
    "# Filtering outliers to get better graphs\n",
    "threshold = review_4.useful_r.quantile(q=0.99)\n",
    "filtered_useful = review_4[review_4.useful_r < threshold]\n",
    "sns.distplot(filtered_useful.useful_r)\n",
    "plt.title('Distribution of Useful Vote Numbers (%99)')\n",
    "#plt.savefig('dist_2.png')\n",
    "plt.show()"
   ]
  },
  {
   "cell_type": "markdown",
   "metadata": {},
   "source": [
    "# Text-related Features"
   ]
  },
  {
   "cell_type": "code",
   "execution_count": 60,
   "metadata": {},
   "outputs": [
    {
     "data": {
      "image/png": "[encoded data removed]",
      "text/plain": [
       "<matplotlib.figure.Figure at 0x1a317e4940>"
      ]
     },
     "metadata": {},
     "output_type": "display_data"
    }
   ],
   "source": [
    "# Freshness of reviews vs. useful_r\n",
    "sns.boxplot(x='useful_r',y='review_date',data=filtered_useful, showfliers=False)\n",
    "#plt.savefig('review_date.png')\n",
    "plt.show()"
   ]
  },
  {
   "cell_type": "code",
   "execution_count": 61,
   "metadata": {},
   "outputs": [
    {
     "data": {
      "image/png": "[encoded data removed]",
      "text/plain": [
       "<matplotlib.figure.Figure at 0x1a31746940>"
      ]
     },
     "metadata": {},
     "output_type": "display_data"
    },
    {
     "data": {
      "image/png": "[encoded data removed]",
      "text/plain": [
       "<matplotlib.figure.Figure at 0x1a31506588>"
      ]
     },
     "metadata": {},
     "output_type": "display_data"
    }
   ],
   "source": [
    "sns.boxplot(x='useful_r',y='count_non_stop',data=filtered_useful, showfliers=False)\n",
    "#plt.savefig('non_stop.png')\n",
    "plt.show()\n",
    "\n",
    "sns.boxplot(x='useful_r',y='text_length',data=filtered_useful, showfliers=False)\n",
    "#plt.savefig('length.png')\n",
    "plt.show()"
   ]
  },
  {
   "cell_type": "code",
   "execution_count": 62,
   "metadata": {
    "collapsed": true
   },
   "outputs": [],
   "source": [
    "# The reviews having at least 1 useful reviews and 0 reviews.\n",
    "def is_useful(row):\n",
    "    if row >= 1:\n",
    "        return 1\n",
    "    else:\n",
    "        return 0"
   ]
  },
  {
   "cell_type": "code",
   "execution_count": 63,
   "metadata": {},
   "outputs": [
    {
     "name": "stderr",
     "output_type": "stream",
     "text": [
      "/anaconda3/lib/python3.6/site-packages/ipykernel_launcher.py:1: SettingWithCopyWarning: \n",
      "A value is trying to be set on a copy of a slice from a DataFrame.\n",
      "Try using .loc[row_indexer,col_indexer] = value instead\n",
      "\n",
      "See the caveats in the documentation: http://pandas.pydata.org/pandas-docs/stable/indexing.html#indexing-view-versus-copy\n",
      "  \"\"\"Entry point for launching an IPython kernel.\n"
     ]
    }
   ],
   "source": [
    "filtered_useful['is_useful'] = filtered_useful['useful_r'].apply(is_useful)"
   ]
  },
  {
   "cell_type": "code",
   "execution_count": 64,
   "metadata": {
    "scrolled": true
   },
   "outputs": [
    {
     "data": {
      "text/html": [
       "<div>\n",
       "<style>\n",
       "    .dataframe thead tr:only-child th {\n",
       "        text-align: right;\n",
       "    }\n",
       "\n",
       "    .dataframe thead th {\n",
       "        text-align: left;\n",
       "    }\n",
       "\n",
       "    .dataframe tbody tr th {\n",
       "        vertical-align: top;\n",
       "    }\n",
       "</style>\n",
       "<table border=\"1\" class=\"dataframe\">\n",
       "  <thead>\n",
       "    <tr style=\"text-align: right;\">\n",
       "      <th></th>\n",
       "      <th>useful_r</th>\n",
       "      <th>is_useful</th>\n",
       "    </tr>\n",
       "  </thead>\n",
       "  <tbody>\n",
       "    <tr>\n",
       "      <th>128966</th>\n",
       "      <td>1</td>\n",
       "      <td>1</td>\n",
       "    </tr>\n",
       "    <tr>\n",
       "      <th>5368</th>\n",
       "      <td>1</td>\n",
       "      <td>1</td>\n",
       "    </tr>\n",
       "    <tr>\n",
       "      <th>187604</th>\n",
       "      <td>2</td>\n",
       "      <td>1</td>\n",
       "    </tr>\n",
       "    <tr>\n",
       "      <th>186990</th>\n",
       "      <td>1</td>\n",
       "      <td>1</td>\n",
       "    </tr>\n",
       "    <tr>\n",
       "      <th>119695</th>\n",
       "      <td>1</td>\n",
       "      <td>1</td>\n",
       "    </tr>\n",
       "  </tbody>\n",
       "</table>\n",
       "</div>"
      ],
      "text/plain": [
       "        useful_r  is_useful\n",
       "128966         1          1\n",
       "5368           1          1\n",
       "187604         2          1\n",
       "186990         1          1\n",
       "119695         1          1"
      ]
     },
     "execution_count": 64,
     "metadata": {},
     "output_type": "execute_result"
    }
   ],
   "source": [
    "# Check is_useful column\n",
    "filtered_useful[['useful_r','is_useful']].sample(5)"
   ]
  },
  {
   "cell_type": "markdown",
   "metadata": {},
   "source": [
    "# User-related Features"
   ]
  },
  {
   "cell_type": "code",
   "execution_count": 65,
   "metadata": {},
   "outputs": [
    {
     "data": {
      "image/png": "[encoded data removed]",
      "text/plain": [
       "<matplotlib.figure.Figure at 0x1a31465e48>"
      ]
     },
     "metadata": {},
     "output_type": "display_data"
    }
   ],
   "source": [
    "sns.boxplot(y='stars_user',x='useful_r', data=filtered_useful,showfliers=False)\n",
    "#plt.savefig('stars_user.png')\n",
    "plt.show()"
   ]
  },
  {
   "cell_type": "code",
   "execution_count": 68,
   "metadata": {},
   "outputs": [
    {
     "data": {
      "image/png": "[encoded data removed]",
      "text/plain": [
       "<matplotlib.figure.Figure at 0x1a3163ea90>"
      ]
     },
     "metadata": {},
     "output_type": "display_data"
    },
    {
     "data": {
      "image/png": "[encoded data removed]",
      "text/plain": [
       "<matplotlib.figure.Figure at 0x1a31593a58>"
      ]
     },
     "metadata": {},
     "output_type": "display_data"
    }
   ],
   "source": [
    "sns.boxplot(y='useful_per_review_u',x='useful_r', data=filtered_useful,showfliers=False)\n",
    "#plt.savefig('useful_per_review_u.png')\n",
    "plt.show()\n",
    "sns.boxplot(y='cool_per_review_u',x='useful_r', data=filtered_useful,showfliers=False)\n",
    "plt.savefig('cool_per_review_u.png')\n",
    "plt.show()"
   ]
  },
  {
   "cell_type": "markdown",
   "metadata": {},
   "source": [
    "# Business-related Features"
   ]
  },
  {
   "cell_type": "code",
   "execution_count": 69,
   "metadata": {},
   "outputs": [
    {
     "data": {
      "image/png": "[encoded data removed]",
      "text/plain": [
       "<matplotlib.figure.Figure at 0x1049f34e0>"
      ]
     },
     "metadata": {},
     "output_type": "display_data"
    },
    {
     "data": {
      "image/png": "[encoded data removed]",
      "text/plain": [
       "<matplotlib.figure.Figure at 0x1a3170dac8>"
      ]
     },
     "metadata": {},
     "output_type": "display_data"
    }
   ],
   "source": [
    "# Review count of a business vs Usefulness\n",
    "sns.boxplot(x='useful_r',y='review_count_business',data=filtered_useful, showfliers=False)\n",
    "#plt.savefig('review_count_bus_1.png')\n",
    "plt.show()\n",
    "\n",
    "sns.boxplot(x='is_useful',y='review_count_business',data=filtered_useful, showfliers=False)\n",
    "#plt.savefig('review_count_bus_2.png')\n",
    "plt.show()"
   ]
  },
  {
   "cell_type": "code",
   "execution_count": 70,
   "metadata": {},
   "outputs": [
    {
     "data": {
      "image/png": "[encoded data removed]",
      "text/plain": [
       "<matplotlib.figure.Figure at 0x1a31693a20>"
      ]
     },
     "metadata": {},
     "output_type": "display_data"
    },
    {
     "data": {
      "image/png": "[encoded data removed]",
      "text/plain": [
       "<matplotlib.figure.Figure at 0x1a3147d860>"
      ]
     },
     "metadata": {},
     "output_type": "display_data"
    }
   ],
   "source": [
    "sns.boxplot(y='useful_r',x='popularity_bins', data=filtered_useful, showfliers=False)\n",
    "#plt.savefig('pop.png')\n",
    "plt.show()\n",
    "sns.boxplot(y='useful_r',x='stars_business', data=filtered_useful, showfliers=False)\n",
    "#plt.savefig('stars_business.png')\n",
    "plt.show()"
   ]
  },
  {
   "cell_type": "code",
   "execution_count": 71,
   "metadata": {},
   "outputs": [
    {
     "data": {
      "text/html": [
       "<div>\n",
       "<style>\n",
       "    .dataframe thead tr:only-child th {\n",
       "        text-align: right;\n",
       "    }\n",
       "\n",
       "    .dataframe thead th {\n",
       "        text-align: left;\n",
       "    }\n",
       "\n",
       "    .dataframe tbody tr th {\n",
       "        vertical-align: top;\n",
       "    }\n",
       "</style>\n",
       "<table border=\"1\" class=\"dataframe\">\n",
       "  <thead>\n",
       "    <tr style=\"text-align: right;\">\n",
       "      <th></th>\n",
       "      <th>review_date</th>\n",
       "      <th>stars_review</th>\n",
       "      <th>useful_r</th>\n",
       "      <th>useful_r_ratio</th>\n",
       "      <th>review_user_std_dev</th>\n",
       "      <th>count_exclamation</th>\n",
       "      <th>count_question</th>\n",
       "      <th>count_non_stop</th>\n",
       "      <th>text_length</th>\n",
       "      <th>stars_user</th>\n",
       "      <th>review_count_user</th>\n",
       "      <th>popularity_bins</th>\n",
       "      <th>review_count_business</th>\n",
       "      <th>stars_business</th>\n",
       "      <th>\"children's clothing\"</th>\n",
       "      <th>\"men's clothing\"</th>\n",
       "      <th>\"women's clothing\"</th>\n",
       "      <th>'accessories'</th>\n",
       "      <th>'active life'</th>\n",
       "      <th>'adult education'</th>\n",
       "    </tr>\n",
       "  </thead>\n",
       "  <tbody>\n",
       "    <tr>\n",
       "      <th>0</th>\n",
       "      <td>710.0</td>\n",
       "      <td>5</td>\n",
       "      <td>5</td>\n",
       "      <td>0.545455</td>\n",
       "      <td>1.266139</td>\n",
       "      <td>1</td>\n",
       "      <td>0</td>\n",
       "      <td>93</td>\n",
       "      <td>889</td>\n",
       "      <td>3.72</td>\n",
       "      <td>376.0</td>\n",
       "      <td>8</td>\n",
       "      <td>116</td>\n",
       "      <td>4.0</td>\n",
       "      <td>0</td>\n",
       "      <td>0</td>\n",
       "      <td>0</td>\n",
       "      <td>0</td>\n",
       "      <td>0</td>\n",
       "      <td>0</td>\n",
       "    </tr>\n",
       "    <tr>\n",
       "      <th>1</th>\n",
       "      <td>955.0</td>\n",
       "      <td>4</td>\n",
       "      <td>0</td>\n",
       "      <td>1.000000</td>\n",
       "      <td>1.266139</td>\n",
       "      <td>2</td>\n",
       "      <td>0</td>\n",
       "      <td>109</td>\n",
       "      <td>1012</td>\n",
       "      <td>3.72</td>\n",
       "      <td>376.0</td>\n",
       "      <td>9</td>\n",
       "      <td>100</td>\n",
       "      <td>3.5</td>\n",
       "      <td>0</td>\n",
       "      <td>0</td>\n",
       "      <td>0</td>\n",
       "      <td>0</td>\n",
       "      <td>0</td>\n",
       "      <td>0</td>\n",
       "    </tr>\n",
       "    <tr>\n",
       "      <th>2</th>\n",
       "      <td>486.0</td>\n",
       "      <td>4</td>\n",
       "      <td>3</td>\n",
       "      <td>0.250000</td>\n",
       "      <td>1.266139</td>\n",
       "      <td>0</td>\n",
       "      <td>0</td>\n",
       "      <td>302</td>\n",
       "      <td>2890</td>\n",
       "      <td>3.72</td>\n",
       "      <td>376.0</td>\n",
       "      <td>9</td>\n",
       "      <td>100</td>\n",
       "      <td>4.0</td>\n",
       "      <td>0</td>\n",
       "      <td>0</td>\n",
       "      <td>0</td>\n",
       "      <td>0</td>\n",
       "      <td>0</td>\n",
       "      <td>0</td>\n",
       "    </tr>\n",
       "    <tr>\n",
       "      <th>3</th>\n",
       "      <td>831.0</td>\n",
       "      <td>4</td>\n",
       "      <td>1</td>\n",
       "      <td>0.333333</td>\n",
       "      <td>1.266139</td>\n",
       "      <td>1</td>\n",
       "      <td>1</td>\n",
       "      <td>139</td>\n",
       "      <td>1246</td>\n",
       "      <td>3.72</td>\n",
       "      <td>376.0</td>\n",
       "      <td>2</td>\n",
       "      <td>113</td>\n",
       "      <td>3.5</td>\n",
       "      <td>0</td>\n",
       "      <td>0</td>\n",
       "      <td>0</td>\n",
       "      <td>0</td>\n",
       "      <td>0</td>\n",
       "      <td>0</td>\n",
       "    </tr>\n",
       "    <tr>\n",
       "      <th>4</th>\n",
       "      <td>1263.0</td>\n",
       "      <td>3</td>\n",
       "      <td>0</td>\n",
       "      <td>1.000000</td>\n",
       "      <td>1.266139</td>\n",
       "      <td>0</td>\n",
       "      <td>0</td>\n",
       "      <td>124</td>\n",
       "      <td>1178</td>\n",
       "      <td>3.72</td>\n",
       "      <td>376.0</td>\n",
       "      <td>8</td>\n",
       "      <td>94</td>\n",
       "      <td>4.0</td>\n",
       "      <td>0</td>\n",
       "      <td>0</td>\n",
       "      <td>0</td>\n",
       "      <td>0</td>\n",
       "      <td>0</td>\n",
       "      <td>0</td>\n",
       "    </tr>\n",
       "  </tbody>\n",
       "</table>\n",
       "</div>"
      ],
      "text/plain": [
       "   review_date  stars_review  useful_r  useful_r_ratio  review_user_std_dev  \\\n",
       "0        710.0             5         5        0.545455             1.266139   \n",
       "1        955.0             4         0        1.000000             1.266139   \n",
       "2        486.0             4         3        0.250000             1.266139   \n",
       "3        831.0             4         1        0.333333             1.266139   \n",
       "4       1263.0             3         0        1.000000             1.266139   \n",
       "\n",
       "   count_exclamation  count_question  count_non_stop  text_length  stars_user  \\\n",
       "0                  1               0              93          889        3.72   \n",
       "1                  2               0             109         1012        3.72   \n",
       "2                  0               0             302         2890        3.72   \n",
       "3                  1               1             139         1246        3.72   \n",
       "4                  0               0             124         1178        3.72   \n",
       "\n",
       "   review_count_user popularity_bins  review_count_business  stars_business  \\\n",
       "0              376.0               8                    116             4.0   \n",
       "1              376.0               9                    100             3.5   \n",
       "2              376.0               9                    100             4.0   \n",
       "3              376.0               2                    113             3.5   \n",
       "4              376.0               8                     94             4.0   \n",
       "\n",
       "    \"children's clothing\"   \"men's clothing\"   \"women's clothing\"  \\\n",
       "0                       0                  0                    0   \n",
       "1                       0                  0                    0   \n",
       "2                       0                  0                    0   \n",
       "3                       0                  0                    0   \n",
       "4                       0                  0                    0   \n",
       "\n",
       "    'accessories'   'active life'   'adult education'  \n",
       "0               0               0                   0  \n",
       "1               0               0                   0  \n",
       "2               0               0                   0  \n",
       "3               0               0                   0  \n",
       "4               0               0                   0  "
      ]
     },
     "execution_count": 71,
     "metadata": {},
     "output_type": "execute_result"
    }
   ],
   "source": [
    "review_4.iloc[:5,:20]"
   ]
  },
  {
   "cell_type": "code",
   "execution_count": 72,
   "metadata": {},
   "outputs": [
    {
     "data": {
      "text/html": [
       "<div>\n",
       "<style>\n",
       "    .dataframe thead tr:only-child th {\n",
       "        text-align: right;\n",
       "    }\n",
       "\n",
       "    .dataframe thead th {\n",
       "        text-align: left;\n",
       "    }\n",
       "\n",
       "    .dataframe tbody tr th {\n",
       "        vertical-align: top;\n",
       "    }\n",
       "</style>\n",
       "<table border=\"1\" class=\"dataframe\">\n",
       "  <thead>\n",
       "    <tr style=\"text-align: right;\">\n",
       "      <th></th>\n",
       "      <th>\"children's clothing\"</th>\n",
       "      <th>\"men's clothing\"</th>\n",
       "      <th>\"women's clothing\"</th>\n",
       "      <th>'accessories'</th>\n",
       "      <th>'active life'</th>\n",
       "      <th>'adult education'</th>\n",
       "      <th>'adult'</th>\n",
       "      <th>'advertising'</th>\n",
       "      <th>'african'</th>\n",
       "      <th>'airlines'</th>\n",
       "      <th>...</th>\n",
       "      <th>'videographers'</th>\n",
       "      <th>'videos &amp; video game rental'</th>\n",
       "      <th>'vietnamese'</th>\n",
       "      <th>'web design'</th>\n",
       "      <th>'wedding planning'</th>\n",
       "      <th>'weight loss centers'</th>\n",
       "      <th>'window washing'</th>\n",
       "      <th>'windows installation'</th>\n",
       "      <th>'wine bars'</th>\n",
       "      <th>'yoga'</th>\n",
       "    </tr>\n",
       "  </thead>\n",
       "  <tbody>\n",
       "    <tr>\n",
       "      <th>0</th>\n",
       "      <td>0</td>\n",
       "      <td>0</td>\n",
       "      <td>0</td>\n",
       "      <td>0</td>\n",
       "      <td>0</td>\n",
       "      <td>0</td>\n",
       "      <td>0</td>\n",
       "      <td>0</td>\n",
       "      <td>0</td>\n",
       "      <td>0</td>\n",
       "      <td>...</td>\n",
       "      <td>0</td>\n",
       "      <td>0</td>\n",
       "      <td>0</td>\n",
       "      <td>0</td>\n",
       "      <td>0</td>\n",
       "      <td>0</td>\n",
       "      <td>0</td>\n",
       "      <td>0</td>\n",
       "      <td>0</td>\n",
       "      <td>0</td>\n",
       "    </tr>\n",
       "    <tr>\n",
       "      <th>1</th>\n",
       "      <td>0</td>\n",
       "      <td>0</td>\n",
       "      <td>0</td>\n",
       "      <td>0</td>\n",
       "      <td>0</td>\n",
       "      <td>0</td>\n",
       "      <td>0</td>\n",
       "      <td>0</td>\n",
       "      <td>0</td>\n",
       "      <td>0</td>\n",
       "      <td>...</td>\n",
       "      <td>0</td>\n",
       "      <td>0</td>\n",
       "      <td>0</td>\n",
       "      <td>0</td>\n",
       "      <td>0</td>\n",
       "      <td>0</td>\n",
       "      <td>0</td>\n",
       "      <td>0</td>\n",
       "      <td>0</td>\n",
       "      <td>0</td>\n",
       "    </tr>\n",
       "    <tr>\n",
       "      <th>2</th>\n",
       "      <td>0</td>\n",
       "      <td>0</td>\n",
       "      <td>0</td>\n",
       "      <td>0</td>\n",
       "      <td>0</td>\n",
       "      <td>0</td>\n",
       "      <td>0</td>\n",
       "      <td>0</td>\n",
       "      <td>0</td>\n",
       "      <td>0</td>\n",
       "      <td>...</td>\n",
       "      <td>0</td>\n",
       "      <td>0</td>\n",
       "      <td>0</td>\n",
       "      <td>0</td>\n",
       "      <td>0</td>\n",
       "      <td>0</td>\n",
       "      <td>0</td>\n",
       "      <td>0</td>\n",
       "      <td>0</td>\n",
       "      <td>0</td>\n",
       "    </tr>\n",
       "    <tr>\n",
       "      <th>3</th>\n",
       "      <td>0</td>\n",
       "      <td>0</td>\n",
       "      <td>0</td>\n",
       "      <td>0</td>\n",
       "      <td>0</td>\n",
       "      <td>0</td>\n",
       "      <td>0</td>\n",
       "      <td>0</td>\n",
       "      <td>0</td>\n",
       "      <td>0</td>\n",
       "      <td>...</td>\n",
       "      <td>0</td>\n",
       "      <td>0</td>\n",
       "      <td>0</td>\n",
       "      <td>0</td>\n",
       "      <td>0</td>\n",
       "      <td>0</td>\n",
       "      <td>0</td>\n",
       "      <td>0</td>\n",
       "      <td>0</td>\n",
       "      <td>0</td>\n",
       "    </tr>\n",
       "  </tbody>\n",
       "</table>\n",
       "<p>4 rows × 729 columns</p>\n",
       "</div>"
      ],
      "text/plain": [
       "    \"children's clothing\"   \"men's clothing\"   \"women's clothing\"  \\\n",
       "0                       0                  0                    0   \n",
       "1                       0                  0                    0   \n",
       "2                       0                  0                    0   \n",
       "3                       0                  0                    0   \n",
       "\n",
       "    'accessories'   'active life'   'adult education'   'adult'  \\\n",
       "0               0               0                   0         0   \n",
       "1               0               0                   0         0   \n",
       "2               0               0                   0         0   \n",
       "3               0               0                   0         0   \n",
       "\n",
       "    'advertising'   'african'   'airlines'   ...    'videographers'  \\\n",
       "0               0           0            0   ...                  0   \n",
       "1               0           0            0   ...                  0   \n",
       "2               0           0            0   ...                  0   \n",
       "3               0           0            0   ...                  0   \n",
       "\n",
       "   'videos & video game rental'  'vietnamese'  'web design'  \\\n",
       "0                             0             0             0   \n",
       "1                             0             0             0   \n",
       "2                             0             0             0   \n",
       "3                             0             0             0   \n",
       "\n",
       "   'wedding planning'  'weight loss centers'  'window washing'  \\\n",
       "0                   0                      0                 0   \n",
       "1                   0                      0                 0   \n",
       "2                   0                      0                 0   \n",
       "3                   0                      0                 0   \n",
       "\n",
       "   'windows installation'  'wine bars'  'yoga'  \n",
       "0                       0            0       0  \n",
       "1                       0            0       0  \n",
       "2                       0            0       0  \n",
       "3                       0            0       0  \n",
       "\n",
       "[4 rows x 729 columns]"
      ]
     },
     "execution_count": 72,
     "metadata": {},
     "output_type": "execute_result"
    }
   ],
   "source": [
    "review_4.iloc[:4,14:-3]"
   ]
  },
  {
   "cell_type": "code",
   "execution_count": 73,
   "metadata": {},
   "outputs": [
    {
     "data": {
      "image/png": "[encoded data removed]",
      "text/plain": [
       "<matplotlib.figure.Figure at 0x1a317533c8>"
      ]
     },
     "metadata": {},
     "output_type": "display_data"
    }
   ],
   "source": [
    "# heatmap of corralation between all values\n",
    "corrmat = review_3.corr()\n",
    "sns.heatmap(corrmat, fmt=\".1f\", cmap=\"YlGnBu\")\n",
    "plt.tight_layout()\n",
    "#plt.savefig('heatmap.png')\n",
    "plt.show() "
   ]
  },
  {
   "cell_type": "markdown",
   "metadata": {},
   "source": [
    "# Decision Tree Regressor"
   ]
  },
  {
   "cell_type": "code",
   "execution_count": 74,
   "metadata": {},
   "outputs": [
    {
     "name": "stdout",
     "output_type": "stream",
     "text": [
      "Training set size :  170402\n",
      "Test set size :  30071\n"
     ]
    }
   ],
   "source": [
    "X = review_3.drop('useful_r',1)\n",
    "y = review_3['useful_r']\n",
    "X_np = np.array(X)\n",
    "y_np = np.array(y)\n",
    "X_train, X_test, y_train, y_test = train_test_split(X_np, y_np, test_size=0.15, random_state=0)\n",
    "y_actual = y_test\n",
    "print(\"Training set size : \", len(X_train))\n",
    "print(\"Test set size : \", len(X_test))"
   ]
  },
  {
   "cell_type": "code",
   "execution_count": 75,
   "metadata": {},
   "outputs": [
    {
     "name": "stdout",
     "output_type": "stream",
     "text": [
      "Mean Squared Error :  3.84975557846\n",
      "Root of MSE :  1.96207940167\n",
      "R2 Score :  0.237045098218\n"
     ]
    }
   ],
   "source": [
    "model = DecisionTreeRegressor()\n",
    "model.fit(X_train, y_train)\n",
    "y_pred = model.predict(X_test)\n",
    "print('Mean Squared Error : ', mean_squared_error(y_actual,y_pred))\n",
    "print('Root of MSE : ', mean_squared_error(y_actual,y_pred)**(1/2))\n",
    "print('R2 Score : ', r2_score(y_actual,y_pred))"
   ]
  },
  {
   "cell_type": "code",
   "execution_count": 76,
   "metadata": {},
   "outputs": [
    {
     "data": {
      "text/plain": [
       "{'max_depth': 10, 'min_samples_leaf': 10, 'min_samples_split': 100}"
      ]
     },
     "execution_count": 76,
     "metadata": {},
     "output_type": "execute_result"
    }
   ],
   "source": [
    "#param_grid = {'min_samples_split': [2,5, 10, 100, 1000], 'min_samples_leaf': [2,5, 10, 100, 1000],\n",
    "#              'max_depth':[2,5, 10, 100, 1000]}\n",
    "param_grid = {'max_depth': [10,100], 'min_samples_leaf': [100,10], 'min_samples_split': [10,100]}\n",
    "model = GridSearchCV(model,param_grid)\n",
    "model.fit(X_train ,y_train)\n",
    "model.best_params_"
   ]
  },
  {
   "cell_type": "code",
   "execution_count": 77,
   "metadata": {
    "collapsed": true
   },
   "outputs": [],
   "source": [
    "X_train2, X_valid, y_train2, y_valid = train_test_split(X_train,y_train, test_size=0.15, random_state=0)"
   ]
  },
  {
   "cell_type": "code",
   "execution_count": 78,
   "metadata": {},
   "outputs": [
    {
     "name": "stdout",
     "output_type": "stream",
     "text": [
      "Mean Squared Error :  2.67583242682\n",
      "Root of MSE :  1.63579718389\n",
      "R2 Score :  0.500151254256\n"
     ]
    }
   ],
   "source": [
    "model = DecisionTreeRegressor(min_samples_split=10, min_samples_leaf=10, max_depth=100)\n",
    "model.fit(X_train2, y_train2)\n",
    "y_pred2= model.predict(X_valid)\n",
    "print('Mean Squared Error : ', mean_squared_error(y_valid,y_pred2))\n",
    "print('Root of MSE : ', mean_squared_error(y_valid,y_pred2)**(1/2))\n",
    "print('R2 Score : ', r2_score(y_valid,y_pred2))"
   ]
  },
  {
   "cell_type": "code",
   "execution_count": 79,
   "metadata": {},
   "outputs": [
    {
     "name": "stdout",
     "output_type": "stream",
     "text": [
      "Mean Squared Error :  2.54458038726\n",
      "Root of MSE :  1.59517409309\n",
      "R2 Score :  0.495708223582\n"
     ]
    }
   ],
   "source": [
    "X_train3 = np.concatenate([X_train2,X_valid])\n",
    "y_train3 = np.concatenate([y_train2,y_valid])\n",
    "model.fit(X_train3,y_train3)\n",
    "y_pred3 = model.predict(X_test)\n",
    "print('Mean Squared Error : ', mean_squared_error(y_test,y_pred3))\n",
    "print('Root of MSE : ', mean_squared_error(y_test,y_pred3)**(1/2))\n",
    "print('R2 Score : ', r2_score(y_test,y_pred3))"
   ]
  },
  {
   "cell_type": "code",
   "execution_count": 80,
   "metadata": {},
   "outputs": [
    {
     "data": {
      "text/html": [
       "<div>\n",
       "<style>\n",
       "    .dataframe thead tr:only-child th {\n",
       "        text-align: right;\n",
       "    }\n",
       "\n",
       "    .dataframe thead th {\n",
       "        text-align: left;\n",
       "    }\n",
       "\n",
       "    .dataframe tbody tr th {\n",
       "        vertical-align: top;\n",
       "    }\n",
       "</style>\n",
       "<table border=\"1\" class=\"dataframe\">\n",
       "  <thead>\n",
       "    <tr style=\"text-align: right;\">\n",
       "      <th></th>\n",
       "      <th>0</th>\n",
       "      <th>1</th>\n",
       "    </tr>\n",
       "  </thead>\n",
       "  <tbody>\n",
       "    <tr>\n",
       "      <th>0</th>\n",
       "      <td>cool_per_review_u</td>\n",
       "      <td>0.556568</td>\n",
       "    </tr>\n",
       "    <tr>\n",
       "      <th>1</th>\n",
       "      <td>useful_per_review_u</td>\n",
       "      <td>0.123754</td>\n",
       "    </tr>\n",
       "    <tr>\n",
       "      <th>2</th>\n",
       "      <td>review_user_std_dev</td>\n",
       "      <td>0.067976</td>\n",
       "    </tr>\n",
       "    <tr>\n",
       "      <th>3</th>\n",
       "      <td>review_date</td>\n",
       "      <td>0.065730</td>\n",
       "    </tr>\n",
       "    <tr>\n",
       "      <th>4</th>\n",
       "      <td>count_non_stop</td>\n",
       "      <td>0.040740</td>\n",
       "    </tr>\n",
       "    <tr>\n",
       "      <th>5</th>\n",
       "      <td>text_length</td>\n",
       "      <td>0.035572</td>\n",
       "    </tr>\n",
       "    <tr>\n",
       "      <th>6</th>\n",
       "      <td>review_count_business</td>\n",
       "      <td>0.025661</td>\n",
       "    </tr>\n",
       "    <tr>\n",
       "      <th>7</th>\n",
       "      <td>stars_review</td>\n",
       "      <td>0.019868</td>\n",
       "    </tr>\n",
       "    <tr>\n",
       "      <th>8</th>\n",
       "      <td>review_count_user</td>\n",
       "      <td>0.018422</td>\n",
       "    </tr>\n",
       "    <tr>\n",
       "      <th>9</th>\n",
       "      <td>stars_user</td>\n",
       "      <td>0.012521</td>\n",
       "    </tr>\n",
       "    <tr>\n",
       "      <th>10</th>\n",
       "      <td>funny_per_review_u</td>\n",
       "      <td>0.010988</td>\n",
       "    </tr>\n",
       "    <tr>\n",
       "      <th>11</th>\n",
       "      <td>count_exclamation</td>\n",
       "      <td>0.007877</td>\n",
       "    </tr>\n",
       "    <tr>\n",
       "      <th>12</th>\n",
       "      <td>stars_business</td>\n",
       "      <td>0.006000</td>\n",
       "    </tr>\n",
       "    <tr>\n",
       "      <th>13</th>\n",
       "      <td>popularity_bins</td>\n",
       "      <td>0.004955</td>\n",
       "    </tr>\n",
       "    <tr>\n",
       "      <th>14</th>\n",
       "      <td>count_question</td>\n",
       "      <td>0.003261</td>\n",
       "    </tr>\n",
       "    <tr>\n",
       "      <th>15</th>\n",
       "      <td>useful_r_ratio</td>\n",
       "      <td>0.000107</td>\n",
       "    </tr>\n",
       "  </tbody>\n",
       "</table>\n",
       "</div>"
      ],
      "text/plain": [
       "                        0         1\n",
       "0       cool_per_review_u  0.556568\n",
       "1     useful_per_review_u  0.123754\n",
       "2     review_user_std_dev  0.067976\n",
       "3             review_date  0.065730\n",
       "4          count_non_stop  0.040740\n",
       "5             text_length  0.035572\n",
       "6   review_count_business  0.025661\n",
       "7            stars_review  0.019868\n",
       "8       review_count_user  0.018422\n",
       "9              stars_user  0.012521\n",
       "10     funny_per_review_u  0.010988\n",
       "11      count_exclamation  0.007877\n",
       "12         stars_business  0.006000\n",
       "13        popularity_bins  0.004955\n",
       "14         count_question  0.003261\n",
       "15         useful_r_ratio  0.000107"
      ]
     },
     "execution_count": 80,
     "metadata": {},
     "output_type": "execute_result"
    }
   ],
   "source": [
    "features = sorted(list(zip(X.columns, model.feature_importances_)), key=lambda x:x[1], reverse=True)\n",
    "df_features = pd.DataFrame(features)\n",
    "df_features"
   ]
  },
  {
   "cell_type": "markdown",
   "metadata": {},
   "source": [
    "# Decision Tree Regressor with Business Categories"
   ]
  },
  {
   "cell_type": "code",
   "execution_count": 81,
   "metadata": {},
   "outputs": [
    {
     "name": "stdout",
     "output_type": "stream",
     "text": [
      "<class 'pandas.core.frame.DataFrame'>\n",
      "Int64Index: 200473 entries, 0 to 229906\n",
      "Columns: 746 entries, review_date to cool_per_review_u\n",
      "dtypes: category(1), float64(9), int64(736)\n",
      "memory usage: 1.1 GB\n"
     ]
    }
   ],
   "source": [
    "review_4.info()"
   ]
  },
  {
   "cell_type": "code",
   "execution_count": 82,
   "metadata": {},
   "outputs": [
    {
     "name": "stdout",
     "output_type": "stream",
     "text": [
      "Training set size :  170402\n",
      "Test set size :  30071\n"
     ]
    }
   ],
   "source": [
    "X = review_4.drop('useful_r',1)\n",
    "y = review_4['useful_r']\n",
    "X_np = np.array(X)\n",
    "y_np = np.array(y)\n",
    "X_train, X_test, y_train, y_test = train_test_split(X_np, y_np, test_size=0.15, random_state=0)\n",
    "y_actual = y_test\n",
    "print(\"Training set size : \", len(X_train))\n",
    "print(\"Test set size : \", len(X_test))"
   ]
  },
  {
   "cell_type": "code",
   "execution_count": 83,
   "metadata": {},
   "outputs": [
    {
     "name": "stdout",
     "output_type": "stream",
     "text": [
      "Mean Squared Error :  3.6930930132\n",
      "Root of MSE :  1.92174218177\n",
      "R2 Score :  0.26809290623\n"
     ]
    }
   ],
   "source": [
    "model = DecisionTreeRegressor()\n",
    "model.fit(X_train, y_train)\n",
    "y_pred = model.predict(X_test)\n",
    "print('Mean Squared Error : ', mean_squared_error(y_actual,y_pred))\n",
    "print('Root of MSE : ', mean_squared_error(y_actual,y_pred)**(1/2))\n",
    "print('R2 Score : ', r2_score(y_actual,y_pred))"
   ]
  },
  {
   "cell_type": "code",
   "execution_count": 84,
   "metadata": {},
   "outputs": [
    {
     "data": {
      "text/plain": [
       "{'max_depth': 10, 'min_samples_leaf': 10, 'min_samples_split': 100}"
      ]
     },
     "execution_count": 84,
     "metadata": {},
     "output_type": "execute_result"
    }
   ],
   "source": [
    "#param_grid = {'min_samples_split': [2,5, 10, 100, 1000], 'min_samples_leaf': [2,5, 10, 100, 1000],\n",
    "#              'max_depth':[2,5, 10, 100, 1000]}\n",
    "param_grid = {'max_depth': [10,100], 'min_samples_leaf': [100,10], 'min_samples_split': [10,100]}\n",
    "model = GridSearchCV(model,param_grid)\n",
    "model.fit(X_train ,y_train)\n",
    "model.best_params_"
   ]
  },
  {
   "cell_type": "code",
   "execution_count": 85,
   "metadata": {
    "collapsed": true
   },
   "outputs": [],
   "source": [
    "X_train2, X_valid, y_train2, y_valid = train_test_split(X_train,y_train, test_size=0.15, random_state=0)"
   ]
  },
  {
   "cell_type": "code",
   "execution_count": 86,
   "metadata": {},
   "outputs": [
    {
     "name": "stdout",
     "output_type": "stream",
     "text": [
      "Mean Squared Error :  2.67075090164\n",
      "Root of MSE :  1.63424321985\n",
      "R2 Score :  0.501100489328\n"
     ]
    }
   ],
   "source": [
    "model = DecisionTreeRegressor(min_samples_split=10, min_samples_leaf=10, max_depth=100)\n",
    "model.fit(X_train2, y_train2)\n",
    "y_pred2= model.predict(X_valid)\n",
    "print('Mean Squared Error : ', mean_squared_error(y_valid,y_pred2))\n",
    "print('Root of MSE : ', mean_squared_error(y_valid,y_pred2)**(1/2))\n",
    "print('R2 Score : ', r2_score(y_valid,y_pred2))"
   ]
  },
  {
   "cell_type": "code",
   "execution_count": 87,
   "metadata": {},
   "outputs": [
    {
     "name": "stdout",
     "output_type": "stream",
     "text": [
      "Mean Squared Error :  2.56402917579\n",
      "Root of MSE :  1.6012586224\n",
      "R2 Score :  0.491853810427\n"
     ]
    }
   ],
   "source": [
    "X_train3 = np.concatenate([X_train2,X_valid])\n",
    "y_train3 = np.concatenate([y_train2,y_valid])\n",
    "model.fit(X_train3,y_train3)\n",
    "y_pred3 = model.predict(X_test)\n",
    "print('Mean Squared Error : ', mean_squared_error(y_test,y_pred3))\n",
    "print('Root of MSE : ', mean_squared_error(y_test,y_pred3)**(1/2))\n",
    "print('R2 Score : ', r2_score(y_test,y_pred3))"
   ]
  },
  {
   "cell_type": "code",
   "execution_count": 88,
   "metadata": {},
   "outputs": [
    {
     "data": {
      "text/html": [
       "<div>\n",
       "<style>\n",
       "    .dataframe thead tr:only-child th {\n",
       "        text-align: right;\n",
       "    }\n",
       "\n",
       "    .dataframe thead th {\n",
       "        text-align: left;\n",
       "    }\n",
       "\n",
       "    .dataframe tbody tr th {\n",
       "        vertical-align: top;\n",
       "    }\n",
       "</style>\n",
       "<table border=\"1\" class=\"dataframe\">\n",
       "  <thead>\n",
       "    <tr style=\"text-align: right;\">\n",
       "      <th></th>\n",
       "      <th>0</th>\n",
       "      <th>1</th>\n",
       "    </tr>\n",
       "  </thead>\n",
       "  <tbody>\n",
       "    <tr>\n",
       "      <th>0</th>\n",
       "      <td>cool_per_review_u</td>\n",
       "      <td>0.572790</td>\n",
       "    </tr>\n",
       "    <tr>\n",
       "      <th>1</th>\n",
       "      <td>useful_per_review_u</td>\n",
       "      <td>0.106852</td>\n",
       "    </tr>\n",
       "    <tr>\n",
       "      <th>2</th>\n",
       "      <td>review_user_std_dev</td>\n",
       "      <td>0.067530</td>\n",
       "    </tr>\n",
       "    <tr>\n",
       "      <th>3</th>\n",
       "      <td>review_date</td>\n",
       "      <td>0.065151</td>\n",
       "    </tr>\n",
       "    <tr>\n",
       "      <th>4</th>\n",
       "      <td>count_non_stop</td>\n",
       "      <td>0.040749</td>\n",
       "    </tr>\n",
       "  </tbody>\n",
       "</table>\n",
       "</div>"
      ],
      "text/plain": [
       "                     0         1\n",
       "0    cool_per_review_u  0.572790\n",
       "1  useful_per_review_u  0.106852\n",
       "2  review_user_std_dev  0.067530\n",
       "3          review_date  0.065151\n",
       "4       count_non_stop  0.040749"
      ]
     },
     "execution_count": 88,
     "metadata": {},
     "output_type": "execute_result"
    }
   ],
   "source": [
    "features = sorted(list(zip(X.columns, model.feature_importances_)), key=lambda x:x[1], reverse=True)\n",
    "df_features = pd.DataFrame(features)\n",
    "df_features.head()"
   ]
  },
  {
   "cell_type": "code",
   "execution_count": 89,
   "metadata": {},
   "outputs": [
    {
     "data": {
      "image/png": "[encoded data removed]",
      "text/plain": [
       "<matplotlib.figure.Figure at 0x1a31547208>"
      ]
     },
     "metadata": {},
     "output_type": "display_data"
    }
   ],
   "source": [
    "plt.scatter(y_test, y_pred3,marker='.')\n",
    "#plt.savefig('regression_result.png')\n",
    "plt.show()"
   ]
  },
  {
   "cell_type": "markdown",
   "metadata": {},
   "source": [
    "# Decision Tree Classifier with 'Useful_r' Buckets"
   ]
  },
  {
   "cell_type": "code",
   "execution_count": 90,
   "metadata": {
    "collapsed": true
   },
   "outputs": [],
   "source": [
    "review_5 = review_4.copy()"
   ]
  },
  {
   "cell_type": "code",
   "execution_count": 91,
   "metadata": {
    "collapsed": true
   },
   "outputs": [],
   "source": [
    "X = review_5.drop('useful_r',1)\n",
    "y = review_5['useful_r']\n",
    "#y = pd.cut(y, bins=5)"
   ]
  },
  {
   "cell_type": "code",
   "execution_count": 92,
   "metadata": {
    "collapsed": true
   },
   "outputs": [],
   "source": [
    "bins = [-0.1, 0.1, 5, 15, 30, 50, 100]\n",
    "labels = [0,1,2,3,4,5]\n",
    "y_2 = pd.cut(y, bins=bins)\n",
    "y_3 = pd.cut(y, bins=bins, labels=labels)"
   ]
  },
  {
   "cell_type": "code",
   "execution_count": 93,
   "metadata": {},
   "outputs": [
    {
     "data": {
      "text/plain": [
       "(0.1, 5.0]       108756\n",
       "(-0.1, 0.1]       83042\n",
       "(5.0, 15.0]        8095\n",
       "(15.0, 30.0]        548\n",
       "(30.0, 50.0]         22\n",
       "(50.0, 100.0]        10\n",
       "Name: useful_r, dtype: int64"
      ]
     },
     "execution_count": 93,
     "metadata": {},
     "output_type": "execute_result"
    }
   ],
   "source": [
    "y_2.value_counts() # it will be a classification problem"
   ]
  },
  {
   "cell_type": "code",
   "execution_count": 94,
   "metadata": {},
   "outputs": [
    {
     "data": {
      "text/plain": [
       "1    108756\n",
       "0     83042\n",
       "2      8095\n",
       "3       548\n",
       "4        22\n",
       "5        10\n",
       "Name: useful_r, dtype: int64"
      ]
     },
     "execution_count": 94,
     "metadata": {},
     "output_type": "execute_result"
    }
   ],
   "source": [
    "y_3.value_counts() # it will be a regression problem"
   ]
  },
  {
   "cell_type": "code",
   "execution_count": 95,
   "metadata": {},
   "outputs": [
    {
     "name": "stdout",
     "output_type": "stream",
     "text": [
      "Training set size :  170402\n",
      "Test set size :  30071\n"
     ]
    }
   ],
   "source": [
    "X_np = np.array(X)\n",
    "y_3_np = np.array(y_3)\n",
    "X_train, X_test, y_train, y_test = train_test_split(X_np, y_3_np, test_size=0.15, random_state=0)\n",
    "y_actual = y_test\n",
    "print(\"Training set size : \", len(X_train))\n",
    "print(\"Test set size : \", len(X_test))"
   ]
  },
  {
   "cell_type": "code",
   "execution_count": 96,
   "metadata": {},
   "outputs": [
    {
     "data": {
      "text/plain": [
       "0.62618469621894846"
      ]
     },
     "execution_count": 96,
     "metadata": {},
     "output_type": "execute_result"
    }
   ],
   "source": [
    "model = DecisionTreeClassifier()\n",
    "model.fit(X_train, y_train)\n",
    "y_pred = model.predict(X_test)\n",
    "accuracy_score(y_actual, y_pred)"
   ]
  },
  {
   "cell_type": "code",
   "execution_count": 97,
   "metadata": {},
   "outputs": [
    {
     "data": {
      "text/plain": [
       "{'max_depth': 10, 'min_samples_leaf': 100, 'min_samples_split': 10}"
      ]
     },
     "execution_count": 97,
     "metadata": {},
     "output_type": "execute_result"
    }
   ],
   "source": [
    "# param_grid = {'max_depth': [10,100], 'min_samples_leaf': [100,10], 'min_samples_split': [10,100]}\n",
    "param_grid = {'max_depth': [10], 'min_samples_leaf': [100], 'min_samples_split': [10]}\n",
    "model = GridSearchCV(model,param_grid)\n",
    "model.fit(X_train ,y_train)\n",
    "model.best_params_"
   ]
  },
  {
   "cell_type": "code",
   "execution_count": 98,
   "metadata": {
    "collapsed": true
   },
   "outputs": [],
   "source": [
    "X_train2, X_valid, y_train2, y_valid = train_test_split(X_train,y_train, test_size=0.15, random_state=0)"
   ]
  },
  {
   "cell_type": "code",
   "execution_count": 99,
   "metadata": {},
   "outputs": [
    {
     "data": {
      "text/plain": [
       "0.68635812370408045"
      ]
     },
     "execution_count": 99,
     "metadata": {},
     "output_type": "execute_result"
    }
   ],
   "source": [
    "model = DecisionTreeClassifier(min_samples_split=10, min_samples_leaf=100, max_depth=10)\n",
    "model.fit(X_train2, y_train2)\n",
    "y_pred2= model.predict(X_valid)\n",
    "accuracy_score(y_valid, y_pred2)"
   ]
  },
  {
   "cell_type": "code",
   "execution_count": 100,
   "metadata": {},
   "outputs": [
    {
     "data": {
      "text/plain": [
       "0.68680788799840375"
      ]
     },
     "execution_count": 100,
     "metadata": {},
     "output_type": "execute_result"
    }
   ],
   "source": [
    "X_train3 = np.concatenate([X_train2,X_valid])\n",
    "y_train3 = np.concatenate([y_train2,y_valid])\n",
    "model.fit(X_train3,y_train3)\n",
    "y_pred3 = model.predict(X_test)\n",
    "accuracy_score(y_actual, y_pred3)"
   ]
  },
  {
   "cell_type": "code",
   "execution_count": 101,
   "metadata": {},
   "outputs": [
    {
     "data": {
      "text/plain": [
       "array([[ 7696,  4726,     4,     0,     0,     0],\n",
       "       [ 3635, 12471,   240,     3,     0,     0],\n",
       "       [    6,   726,   469,     2,     0,     0],\n",
       "       [    0,    20,    51,    17,     0,     0],\n",
       "       [    0,     2,     1,     0,     0,     0],\n",
       "       [    0,     1,     1,     0,     0,     0]])"
      ]
     },
     "execution_count": 101,
     "metadata": {},
     "output_type": "execute_result"
    }
   ],
   "source": [
    "confusion_matrix(y_actual, y_pred3)"
   ]
  },
  {
   "cell_type": "code",
   "execution_count": 102,
   "metadata": {},
   "outputs": [
    {
     "name": "stdout",
     "output_type": "stream",
     "text": [
      "             precision    recall  f1-score   support\n",
      "\n",
      "          0       0.68      0.62      0.65     12426\n",
      "          1       0.69      0.76      0.73     16349\n",
      "          2       0.61      0.39      0.48      1203\n",
      "          3       0.77      0.19      0.31        88\n",
      "          4       0.00      0.00      0.00         3\n",
      "          5       0.00      0.00      0.00         2\n",
      "\n",
      "avg / total       0.69      0.69      0.68     30071\n",
      "\n"
     ]
    },
    {
     "name": "stderr",
     "output_type": "stream",
     "text": [
      "/anaconda3/lib/python3.6/site-packages/sklearn/metrics/classification.py:1135: UndefinedMetricWarning: Precision and F-score are ill-defined and being set to 0.0 in labels with no predicted samples.\n",
      "  'precision', 'predicted', average, warn_for)\n"
     ]
    }
   ],
   "source": [
    "print(classification_report(y_actual, y_pred3))"
   ]
  },
  {
   "cell_type": "code",
   "execution_count": 103,
   "metadata": {},
   "outputs": [
    {
     "data": {
      "text/html": [
       "<div>\n",
       "<style>\n",
       "    .dataframe thead tr:only-child th {\n",
       "        text-align: right;\n",
       "    }\n",
       "\n",
       "    .dataframe thead th {\n",
       "        text-align: left;\n",
       "    }\n",
       "\n",
       "    .dataframe tbody tr th {\n",
       "        vertical-align: top;\n",
       "    }\n",
       "</style>\n",
       "<table border=\"1\" class=\"dataframe\">\n",
       "  <thead>\n",
       "    <tr style=\"text-align: right;\">\n",
       "      <th></th>\n",
       "      <th>0</th>\n",
       "      <th>1</th>\n",
       "    </tr>\n",
       "  </thead>\n",
       "  <tbody>\n",
       "    <tr>\n",
       "      <th>0</th>\n",
       "      <td>useful_per_review_u</td>\n",
       "      <td>0.524248</td>\n",
       "    </tr>\n",
       "    <tr>\n",
       "      <th>1</th>\n",
       "      <td>cool_per_review_u</td>\n",
       "      <td>0.209570</td>\n",
       "    </tr>\n",
       "    <tr>\n",
       "      <th>2</th>\n",
       "      <td>review_date</td>\n",
       "      <td>0.121847</td>\n",
       "    </tr>\n",
       "    <tr>\n",
       "      <th>3</th>\n",
       "      <td>review_user_std_dev</td>\n",
       "      <td>0.051389</td>\n",
       "    </tr>\n",
       "    <tr>\n",
       "      <th>4</th>\n",
       "      <td>count_non_stop</td>\n",
       "      <td>0.036831</td>\n",
       "    </tr>\n",
       "    <tr>\n",
       "      <th>5</th>\n",
       "      <td>review_count_user</td>\n",
       "      <td>0.016238</td>\n",
       "    </tr>\n",
       "    <tr>\n",
       "      <th>6</th>\n",
       "      <td>stars_review</td>\n",
       "      <td>0.014313</td>\n",
       "    </tr>\n",
       "    <tr>\n",
       "      <th>7</th>\n",
       "      <td>text_length</td>\n",
       "      <td>0.010739</td>\n",
       "    </tr>\n",
       "    <tr>\n",
       "      <th>8</th>\n",
       "      <td>review_count_business</td>\n",
       "      <td>0.006591</td>\n",
       "    </tr>\n",
       "    <tr>\n",
       "      <th>9</th>\n",
       "      <td>funny_per_review_u</td>\n",
       "      <td>0.002356</td>\n",
       "    </tr>\n",
       "    <tr>\n",
       "      <th>10</th>\n",
       "      <td>'restaurants'</td>\n",
       "      <td>0.002249</td>\n",
       "    </tr>\n",
       "    <tr>\n",
       "      <th>11</th>\n",
       "      <td>stars_user</td>\n",
       "      <td>0.001403</td>\n",
       "    </tr>\n",
       "    <tr>\n",
       "      <th>12</th>\n",
       "      <td>count_exclamation</td>\n",
       "      <td>0.001093</td>\n",
       "    </tr>\n",
       "    <tr>\n",
       "      <th>13</th>\n",
       "      <td>popularity_bins</td>\n",
       "      <td>0.000697</td>\n",
       "    </tr>\n",
       "    <tr>\n",
       "      <th>14</th>\n",
       "      <td>stars_business</td>\n",
       "      <td>0.000329</td>\n",
       "    </tr>\n",
       "    <tr>\n",
       "      <th>15</th>\n",
       "      <td>count_question</td>\n",
       "      <td>0.000108</td>\n",
       "    </tr>\n",
       "    <tr>\n",
       "      <th>16</th>\n",
       "      <td>useful_r_ratio</td>\n",
       "      <td>0.000000</td>\n",
       "    </tr>\n",
       "    <tr>\n",
       "      <th>17</th>\n",
       "      <td>\"children's clothing\"</td>\n",
       "      <td>0.000000</td>\n",
       "    </tr>\n",
       "    <tr>\n",
       "      <th>18</th>\n",
       "      <td>\"men's clothing\"</td>\n",
       "      <td>0.000000</td>\n",
       "    </tr>\n",
       "    <tr>\n",
       "      <th>19</th>\n",
       "      <td>\"women's clothing\"</td>\n",
       "      <td>0.000000</td>\n",
       "    </tr>\n",
       "    <tr>\n",
       "      <th>20</th>\n",
       "      <td>'accessories'</td>\n",
       "      <td>0.000000</td>\n",
       "    </tr>\n",
       "    <tr>\n",
       "      <th>21</th>\n",
       "      <td>'active life'</td>\n",
       "      <td>0.000000</td>\n",
       "    </tr>\n",
       "    <tr>\n",
       "      <th>22</th>\n",
       "      <td>'adult education'</td>\n",
       "      <td>0.000000</td>\n",
       "    </tr>\n",
       "    <tr>\n",
       "      <th>23</th>\n",
       "      <td>'adult'</td>\n",
       "      <td>0.000000</td>\n",
       "    </tr>\n",
       "    <tr>\n",
       "      <th>24</th>\n",
       "      <td>'advertising'</td>\n",
       "      <td>0.000000</td>\n",
       "    </tr>\n",
       "    <tr>\n",
       "      <th>25</th>\n",
       "      <td>'african'</td>\n",
       "      <td>0.000000</td>\n",
       "    </tr>\n",
       "    <tr>\n",
       "      <th>26</th>\n",
       "      <td>'airlines'</td>\n",
       "      <td>0.000000</td>\n",
       "    </tr>\n",
       "    <tr>\n",
       "      <th>27</th>\n",
       "      <td>'airport shuttles'</td>\n",
       "      <td>0.000000</td>\n",
       "    </tr>\n",
       "    <tr>\n",
       "      <th>28</th>\n",
       "      <td>'airports'</td>\n",
       "      <td>0.000000</td>\n",
       "    </tr>\n",
       "    <tr>\n",
       "      <th>29</th>\n",
       "      <td>'amateur sports teams'</td>\n",
       "      <td>0.000000</td>\n",
       "    </tr>\n",
       "    <tr>\n",
       "      <th>...</th>\n",
       "      <td>...</td>\n",
       "      <td>...</td>\n",
       "    </tr>\n",
       "    <tr>\n",
       "      <th>715</th>\n",
       "      <td>'taiwanese'</td>\n",
       "      <td>0.000000</td>\n",
       "    </tr>\n",
       "    <tr>\n",
       "      <th>716</th>\n",
       "      <td>'talent agencies'</td>\n",
       "      <td>0.000000</td>\n",
       "    </tr>\n",
       "    <tr>\n",
       "      <th>717</th>\n",
       "      <td>'tanning'</td>\n",
       "      <td>0.000000</td>\n",
       "    </tr>\n",
       "    <tr>\n",
       "      <th>718</th>\n",
       "      <td>'tapas bars'</td>\n",
       "      <td>0.000000</td>\n",
       "    </tr>\n",
       "    <tr>\n",
       "      <th>719</th>\n",
       "      <td>'tapas/small plates'</td>\n",
       "      <td>0.000000</td>\n",
       "    </tr>\n",
       "    <tr>\n",
       "      <th>720</th>\n",
       "      <td>'tattoo'</td>\n",
       "      <td>0.000000</td>\n",
       "    </tr>\n",
       "    <tr>\n",
       "      <th>721</th>\n",
       "      <td>'television stations'</td>\n",
       "      <td>0.000000</td>\n",
       "    </tr>\n",
       "    <tr>\n",
       "      <th>722</th>\n",
       "      <td>'tex-mex'</td>\n",
       "      <td>0.000000</td>\n",
       "    </tr>\n",
       "    <tr>\n",
       "      <th>723</th>\n",
       "      <td>'thai'</td>\n",
       "      <td>0.000000</td>\n",
       "    </tr>\n",
       "    <tr>\n",
       "      <th>724</th>\n",
       "      <td>'thrift stores'</td>\n",
       "      <td>0.000000</td>\n",
       "    </tr>\n",
       "    <tr>\n",
       "      <th>725</th>\n",
       "      <td>'tires'</td>\n",
       "      <td>0.000000</td>\n",
       "    </tr>\n",
       "    <tr>\n",
       "      <th>726</th>\n",
       "      <td>'tobacco shops'</td>\n",
       "      <td>0.000000</td>\n",
       "    </tr>\n",
       "    <tr>\n",
       "      <th>727</th>\n",
       "      <td>'tours'</td>\n",
       "      <td>0.000000</td>\n",
       "    </tr>\n",
       "    <tr>\n",
       "      <th>728</th>\n",
       "      <td>'toy stores'</td>\n",
       "      <td>0.000000</td>\n",
       "    </tr>\n",
       "    <tr>\n",
       "      <th>729</th>\n",
       "      <td>'tree services'</td>\n",
       "      <td>0.000000</td>\n",
       "    </tr>\n",
       "    <tr>\n",
       "      <th>730</th>\n",
       "      <td>'turkish'</td>\n",
       "      <td>0.000000</td>\n",
       "    </tr>\n",
       "    <tr>\n",
       "      <th>731</th>\n",
       "      <td>'uniforms'</td>\n",
       "      <td>0.000000</td>\n",
       "    </tr>\n",
       "    <tr>\n",
       "      <th>732</th>\n",
       "      <td>'used</td>\n",
       "      <td>0.000000</td>\n",
       "    </tr>\n",
       "    <tr>\n",
       "      <th>733</th>\n",
       "      <td>'vegetarian'</td>\n",
       "      <td>0.000000</td>\n",
       "    </tr>\n",
       "    <tr>\n",
       "      <th>734</th>\n",
       "      <td>'veterinarians'</td>\n",
       "      <td>0.000000</td>\n",
       "    </tr>\n",
       "    <tr>\n",
       "      <th>735</th>\n",
       "      <td>'videographers'</td>\n",
       "      <td>0.000000</td>\n",
       "    </tr>\n",
       "    <tr>\n",
       "      <th>736</th>\n",
       "      <td>'videos &amp; video game rental'</td>\n",
       "      <td>0.000000</td>\n",
       "    </tr>\n",
       "    <tr>\n",
       "      <th>737</th>\n",
       "      <td>'vietnamese'</td>\n",
       "      <td>0.000000</td>\n",
       "    </tr>\n",
       "    <tr>\n",
       "      <th>738</th>\n",
       "      <td>'web design'</td>\n",
       "      <td>0.000000</td>\n",
       "    </tr>\n",
       "    <tr>\n",
       "      <th>739</th>\n",
       "      <td>'wedding planning'</td>\n",
       "      <td>0.000000</td>\n",
       "    </tr>\n",
       "    <tr>\n",
       "      <th>740</th>\n",
       "      <td>'weight loss centers'</td>\n",
       "      <td>0.000000</td>\n",
       "    </tr>\n",
       "    <tr>\n",
       "      <th>741</th>\n",
       "      <td>'window washing'</td>\n",
       "      <td>0.000000</td>\n",
       "    </tr>\n",
       "    <tr>\n",
       "      <th>742</th>\n",
       "      <td>'windows installation'</td>\n",
       "      <td>0.000000</td>\n",
       "    </tr>\n",
       "    <tr>\n",
       "      <th>743</th>\n",
       "      <td>'wine bars'</td>\n",
       "      <td>0.000000</td>\n",
       "    </tr>\n",
       "    <tr>\n",
       "      <th>744</th>\n",
       "      <td>'yoga'</td>\n",
       "      <td>0.000000</td>\n",
       "    </tr>\n",
       "  </tbody>\n",
       "</table>\n",
       "<p>745 rows × 2 columns</p>\n",
       "</div>"
      ],
      "text/plain": [
       "                                0         1\n",
       "0             useful_per_review_u  0.524248\n",
       "1               cool_per_review_u  0.209570\n",
       "2                     review_date  0.121847\n",
       "3             review_user_std_dev  0.051389\n",
       "4                  count_non_stop  0.036831\n",
       "5               review_count_user  0.016238\n",
       "6                    stars_review  0.014313\n",
       "7                     text_length  0.010739\n",
       "8           review_count_business  0.006591\n",
       "9              funny_per_review_u  0.002356\n",
       "10                  'restaurants'  0.002249\n",
       "11                     stars_user  0.001403\n",
       "12              count_exclamation  0.001093\n",
       "13                popularity_bins  0.000697\n",
       "14                 stars_business  0.000329\n",
       "15                 count_question  0.000108\n",
       "16                 useful_r_ratio  0.000000\n",
       "17          \"children's clothing\"  0.000000\n",
       "18               \"men's clothing\"  0.000000\n",
       "19             \"women's clothing\"  0.000000\n",
       "20                  'accessories'  0.000000\n",
       "21                  'active life'  0.000000\n",
       "22              'adult education'  0.000000\n",
       "23                        'adult'  0.000000\n",
       "24                  'advertising'  0.000000\n",
       "25                      'african'  0.000000\n",
       "26                     'airlines'  0.000000\n",
       "27             'airport shuttles'  0.000000\n",
       "28                     'airports'  0.000000\n",
       "29         'amateur sports teams'  0.000000\n",
       "..                            ...       ...\n",
       "715                   'taiwanese'  0.000000\n",
       "716             'talent agencies'  0.000000\n",
       "717                     'tanning'  0.000000\n",
       "718                  'tapas bars'  0.000000\n",
       "719          'tapas/small plates'  0.000000\n",
       "720                      'tattoo'  0.000000\n",
       "721         'television stations'  0.000000\n",
       "722                     'tex-mex'  0.000000\n",
       "723                        'thai'  0.000000\n",
       "724               'thrift stores'  0.000000\n",
       "725                       'tires'  0.000000\n",
       "726               'tobacco shops'  0.000000\n",
       "727                       'tours'  0.000000\n",
       "728                  'toy stores'  0.000000\n",
       "729               'tree services'  0.000000\n",
       "730                     'turkish'  0.000000\n",
       "731                    'uniforms'  0.000000\n",
       "732                         'used  0.000000\n",
       "733                  'vegetarian'  0.000000\n",
       "734               'veterinarians'  0.000000\n",
       "735               'videographers'  0.000000\n",
       "736  'videos & video game rental'  0.000000\n",
       "737                  'vietnamese'  0.000000\n",
       "738                  'web design'  0.000000\n",
       "739            'wedding planning'  0.000000\n",
       "740         'weight loss centers'  0.000000\n",
       "741              'window washing'  0.000000\n",
       "742        'windows installation'  0.000000\n",
       "743                   'wine bars'  0.000000\n",
       "744                        'yoga'  0.000000\n",
       "\n",
       "[745 rows x 2 columns]"
      ]
     },
     "execution_count": 103,
     "metadata": {},
     "output_type": "execute_result"
    }
   ],
   "source": [
    "features = sorted(list(zip(X.columns, model.feature_importances_)), key=lambda x:x[1], reverse=True)\n",
    "df_features = pd.DataFrame(features)\n",
    "df_features"
   ]
  },
  {
   "cell_type": "code",
   "execution_count": 104,
   "metadata": {},
   "outputs": [
    {
     "data": {
      "image/png": "[encoded data removed]",
      "text/plain": [
       "<matplotlib.figure.Figure at 0x1a314e3e48>"
      ]
     },
     "metadata": {},
     "output_type": "display_data"
    }
   ],
   "source": [
    "#sns.set(font_scale=1.5)\n",
    "df_features_most_important = df_features.iloc[:20]\n",
    "sns.barplot(x=1,y=0,data=df_features_most_important, color='green')\n",
    "sns.despine()\n",
    "plt.rcParams['figure.figsize']=(7,12)\n",
    "plt.tight_layout()\n",
    "plt.savefig('dec_tree_imp_features.png')\n",
    "plt.show()"
   ]
  },
  {
   "cell_type": "markdown",
   "metadata": {},
   "source": [
    "# Random Forests Classifier"
   ]
  },
  {
   "cell_type": "code",
   "execution_count": 105,
   "metadata": {},
   "outputs": [
    {
     "name": "stdout",
     "output_type": "stream",
     "text": [
      "Training set size :  170402\n",
      "Test set size :  30071\n"
     ]
    }
   ],
   "source": [
    "X_train, X_test, y_train, y_test = train_test_split(X_np, y_3_np, test_size=0.15, random_state=0)\n",
    "y_actual = y_test\n",
    "print(\"Training set size : \", len(X_train))\n",
    "print(\"Test set size : \", len(X_test))"
   ]
  },
  {
   "cell_type": "code",
   "execution_count": 106,
   "metadata": {},
   "outputs": [
    {
     "data": {
      "text/plain": [
       "0.65757706760666423"
      ]
     },
     "execution_count": 106,
     "metadata": {},
     "output_type": "execute_result"
    }
   ],
   "source": [
    "model = RandomForestClassifier()\n",
    "model.fit(X_train, y_train)\n",
    "y_pred = model.predict(X_test)\n",
    "accuracy_score(y_actual, y_pred)"
   ]
  },
  {
   "cell_type": "code",
   "execution_count": 107,
   "metadata": {},
   "outputs": [
    {
     "data": {
      "text/plain": [
       "{'max_features': 'sqrt', 'min_samples_split': 5, 'n_estimators': 20}"
      ]
     },
     "execution_count": 107,
     "metadata": {},
     "output_type": "execute_result"
    }
   ],
   "source": [
    "# param_grid = {'n_estimators': [10,20], 'max_features': ['auto','sqrt','log2'], 'min_samples_split': [2,3,5]}\n",
    "param_grid = {'n_estimators': [20], 'max_features': ['sqrt'], 'min_samples_split': [5]}\n",
    "model = GridSearchCV(model,param_grid)\n",
    "model.fit(X_train ,y_train)\n",
    "model.best_params_"
   ]
  },
  {
   "cell_type": "code",
   "execution_count": 108,
   "metadata": {
    "collapsed": true
   },
   "outputs": [],
   "source": [
    "X_train2, X_valid, y_train2, y_valid = train_test_split(X_train,y_train, test_size=0.15, random_state=0)"
   ]
  },
  {
   "cell_type": "code",
   "execution_count": 109,
   "metadata": {},
   "outputs": [
    {
     "data": {
      "text/plain": [
       "0.65455185634364854"
      ]
     },
     "execution_count": 109,
     "metadata": {},
     "output_type": "execute_result"
    }
   ],
   "source": [
    "model = RandomForestClassifier()\n",
    "model.fit(X_train2, y_train2)\n",
    "y_pred2= model.predict(X_valid)\n",
    "accuracy_score(y_valid, y_pred2)"
   ]
  },
  {
   "cell_type": "code",
   "execution_count": 110,
   "metadata": {},
   "outputs": [
    {
     "data": {
      "text/plain": [
       "0.66206644275215321"
      ]
     },
     "execution_count": 110,
     "metadata": {},
     "output_type": "execute_result"
    }
   ],
   "source": [
    "X_train3 = np.concatenate([X_train2,X_valid])\n",
    "y_train3 = np.concatenate([y_train2,y_valid])\n",
    "model.fit(X_train3,y_train3)\n",
    "y_pred3 = model.predict(X_test)\n",
    "accuracy_score(y_actual, y_pred3)"
   ]
  },
  {
   "cell_type": "code",
   "execution_count": 111,
   "metadata": {},
   "outputs": [
    {
     "data": {
      "text/plain": [
       "array([[ 8235,  4183,     8,     0,     0,     0],\n",
       "       [ 4922, 11223,   204,     0,     0,     0],\n",
       "       [   21,   732,   446,     4,     0,     0],\n",
       "       [    1,    19,    63,     5,     0,     0],\n",
       "       [    0,     2,     1,     0,     0,     0],\n",
       "       [    0,     2,     0,     0,     0,     0]])"
      ]
     },
     "execution_count": 111,
     "metadata": {},
     "output_type": "execute_result"
    }
   ],
   "source": [
    "confusion_matrix(y_actual, y_pred3)"
   ]
  },
  {
   "cell_type": "code",
   "execution_count": 112,
   "metadata": {},
   "outputs": [
    {
     "name": "stdout",
     "output_type": "stream",
     "text": [
      "             precision    recall  f1-score   support\n",
      "\n",
      "          0       0.62      0.66      0.64     12426\n",
      "          1       0.69      0.69      0.69     16349\n",
      "          2       0.62      0.37      0.46      1203\n",
      "          3       0.56      0.06      0.10        88\n",
      "          4       0.00      0.00      0.00         3\n",
      "          5       0.00      0.00      0.00         2\n",
      "\n",
      "avg / total       0.66      0.66      0.66     30071\n",
      "\n"
     ]
    },
    {
     "name": "stderr",
     "output_type": "stream",
     "text": [
      "/anaconda3/lib/python3.6/site-packages/sklearn/metrics/classification.py:1135: UndefinedMetricWarning: Precision and F-score are ill-defined and being set to 0.0 in labels with no predicted samples.\n",
      "  'precision', 'predicted', average, warn_for)\n"
     ]
    }
   ],
   "source": [
    "print(classification_report(y_actual, y_pred3))"
   ]
  },
  {
   "cell_type": "code",
   "execution_count": 113,
   "metadata": {},
   "outputs": [
    {
     "data": {
      "text/html": [
       "<div>\n",
       "<style>\n",
       "    .dataframe thead tr:only-child th {\n",
       "        text-align: right;\n",
       "    }\n",
       "\n",
       "    .dataframe thead th {\n",
       "        text-align: left;\n",
       "    }\n",
       "\n",
       "    .dataframe tbody tr th {\n",
       "        vertical-align: top;\n",
       "    }\n",
       "</style>\n",
       "<table border=\"1\" class=\"dataframe\">\n",
       "  <thead>\n",
       "    <tr style=\"text-align: right;\">\n",
       "      <th></th>\n",
       "      <th>0</th>\n",
       "      <th>1</th>\n",
       "    </tr>\n",
       "  </thead>\n",
       "  <tbody>\n",
       "    <tr>\n",
       "      <th>0</th>\n",
       "      <td>useful_per_review_u</td>\n",
       "      <td>0.108358</td>\n",
       "    </tr>\n",
       "    <tr>\n",
       "      <th>1</th>\n",
       "      <td>cool_per_review_u</td>\n",
       "      <td>0.080562</td>\n",
       "    </tr>\n",
       "    <tr>\n",
       "      <th>2</th>\n",
       "      <td>funny_per_review_u</td>\n",
       "      <td>0.072615</td>\n",
       "    </tr>\n",
       "    <tr>\n",
       "      <th>3</th>\n",
       "      <td>review_user_std_dev</td>\n",
       "      <td>0.071686</td>\n",
       "    </tr>\n",
       "    <tr>\n",
       "      <th>4</th>\n",
       "      <td>review_date</td>\n",
       "      <td>0.071396</td>\n",
       "    </tr>\n",
       "    <tr>\n",
       "      <th>5</th>\n",
       "      <td>text_length</td>\n",
       "      <td>0.061717</td>\n",
       "    </tr>\n",
       "    <tr>\n",
       "      <th>6</th>\n",
       "      <td>count_non_stop</td>\n",
       "      <td>0.059481</td>\n",
       "    </tr>\n",
       "    <tr>\n",
       "      <th>7</th>\n",
       "      <td>review_count_user</td>\n",
       "      <td>0.052696</td>\n",
       "    </tr>\n",
       "    <tr>\n",
       "      <th>8</th>\n",
       "      <td>stars_user</td>\n",
       "      <td>0.047257</td>\n",
       "    </tr>\n",
       "    <tr>\n",
       "      <th>9</th>\n",
       "      <td>review_count_business</td>\n",
       "      <td>0.046735</td>\n",
       "    </tr>\n",
       "    <tr>\n",
       "      <th>10</th>\n",
       "      <td>count_exclamation</td>\n",
       "      <td>0.026788</td>\n",
       "    </tr>\n",
       "    <tr>\n",
       "      <th>11</th>\n",
       "      <td>stars_review</td>\n",
       "      <td>0.023644</td>\n",
       "    </tr>\n",
       "    <tr>\n",
       "      <th>12</th>\n",
       "      <td>popularity_bins</td>\n",
       "      <td>0.023540</td>\n",
       "    </tr>\n",
       "    <tr>\n",
       "      <th>13</th>\n",
       "      <td>stars_business</td>\n",
       "      <td>0.022239</td>\n",
       "    </tr>\n",
       "    <tr>\n",
       "      <th>14</th>\n",
       "      <td>count_question</td>\n",
       "      <td>0.011312</td>\n",
       "    </tr>\n",
       "    <tr>\n",
       "      <th>15</th>\n",
       "      <td>useful_r_ratio</td>\n",
       "      <td>0.006883</td>\n",
       "    </tr>\n",
       "    <tr>\n",
       "      <th>16</th>\n",
       "      <td>'restaurants'</td>\n",
       "      <td>0.005780</td>\n",
       "    </tr>\n",
       "    <tr>\n",
       "      <th>17</th>\n",
       "      <td>'mexican'</td>\n",
       "      <td>0.005045</td>\n",
       "    </tr>\n",
       "    <tr>\n",
       "      <th>18</th>\n",
       "      <td>'food'</td>\n",
       "      <td>0.004371</td>\n",
       "    </tr>\n",
       "    <tr>\n",
       "      <th>19</th>\n",
       "      <td>'american (new)'</td>\n",
       "      <td>0.004049</td>\n",
       "    </tr>\n",
       "    <tr>\n",
       "      <th>20</th>\n",
       "      <td>'american (new)'</td>\n",
       "      <td>0.003389</td>\n",
       "    </tr>\n",
       "    <tr>\n",
       "      <th>21</th>\n",
       "      <td>'american (traditional)'</td>\n",
       "      <td>0.003374</td>\n",
       "    </tr>\n",
       "    <tr>\n",
       "      <th>22</th>\n",
       "      <td>'burgers'</td>\n",
       "      <td>0.003323</td>\n",
       "    </tr>\n",
       "    <tr>\n",
       "      <th>23</th>\n",
       "      <td>'nightlife'</td>\n",
       "      <td>0.003228</td>\n",
       "    </tr>\n",
       "    <tr>\n",
       "      <th>24</th>\n",
       "      <td>'american (traditional)'</td>\n",
       "      <td>0.003119</td>\n",
       "    </tr>\n",
       "    <tr>\n",
       "      <th>25</th>\n",
       "      <td>'pizza'</td>\n",
       "      <td>0.003052</td>\n",
       "    </tr>\n",
       "    <tr>\n",
       "      <th>26</th>\n",
       "      <td>'breakfast &amp; brunch'</td>\n",
       "      <td>0.003037</td>\n",
       "    </tr>\n",
       "    <tr>\n",
       "      <th>27</th>\n",
       "      <td>'sandwiches'</td>\n",
       "      <td>0.002990</td>\n",
       "    </tr>\n",
       "    <tr>\n",
       "      <th>28</th>\n",
       "      <td>'pizza'</td>\n",
       "      <td>0.002740</td>\n",
       "    </tr>\n",
       "    <tr>\n",
       "      <th>29</th>\n",
       "      <td>'italian'</td>\n",
       "      <td>0.002610</td>\n",
       "    </tr>\n",
       "    <tr>\n",
       "      <th>...</th>\n",
       "      <td>...</td>\n",
       "      <td>...</td>\n",
       "    </tr>\n",
       "    <tr>\n",
       "      <th>715</th>\n",
       "      <td>'handyman'</td>\n",
       "      <td>0.000000</td>\n",
       "    </tr>\n",
       "    <tr>\n",
       "      <th>716</th>\n",
       "      <td>'home cleaning'</td>\n",
       "      <td>0.000000</td>\n",
       "    </tr>\n",
       "    <tr>\n",
       "      <th>717</th>\n",
       "      <td>'hot tub &amp; pool'</td>\n",
       "      <td>0.000000</td>\n",
       "    </tr>\n",
       "    <tr>\n",
       "      <th>718</th>\n",
       "      <td>'keys &amp; locksmiths'</td>\n",
       "      <td>0.000000</td>\n",
       "    </tr>\n",
       "    <tr>\n",
       "      <th>719</th>\n",
       "      <td>'landscaping'</td>\n",
       "      <td>0.000000</td>\n",
       "    </tr>\n",
       "    <tr>\n",
       "      <th>720</th>\n",
       "      <td>'makeup artists'</td>\n",
       "      <td>0.000000</td>\n",
       "    </tr>\n",
       "    <tr>\n",
       "      <th>721</th>\n",
       "      <td>'marketing'</td>\n",
       "      <td>0.000000</td>\n",
       "    </tr>\n",
       "    <tr>\n",
       "      <th>722</th>\n",
       "      <td>'midwives'</td>\n",
       "      <td>0.000000</td>\n",
       "    </tr>\n",
       "    <tr>\n",
       "      <th>723</th>\n",
       "      <td>'mortgage brokers'</td>\n",
       "      <td>0.000000</td>\n",
       "    </tr>\n",
       "    <tr>\n",
       "      <th>724</th>\n",
       "      <td>'neurologist'</td>\n",
       "      <td>0.000000</td>\n",
       "    </tr>\n",
       "    <tr>\n",
       "      <th>725</th>\n",
       "      <td>'painters'</td>\n",
       "      <td>0.000000</td>\n",
       "    </tr>\n",
       "    <tr>\n",
       "      <th>726</th>\n",
       "      <td>'personal chefs'</td>\n",
       "      <td>0.000000</td>\n",
       "    </tr>\n",
       "    <tr>\n",
       "      <th>727</th>\n",
       "      <td>'photographers'</td>\n",
       "      <td>0.000000</td>\n",
       "    </tr>\n",
       "    <tr>\n",
       "      <th>728</th>\n",
       "      <td>'pilates'</td>\n",
       "      <td>0.000000</td>\n",
       "    </tr>\n",
       "    <tr>\n",
       "      <th>729</th>\n",
       "      <td>'print media'</td>\n",
       "      <td>0.000000</td>\n",
       "    </tr>\n",
       "    <tr>\n",
       "      <th>730</th>\n",
       "      <td>'real estate agents'</td>\n",
       "      <td>0.000000</td>\n",
       "    </tr>\n",
       "    <tr>\n",
       "      <th>731</th>\n",
       "      <td>'real estate'</td>\n",
       "      <td>0.000000</td>\n",
       "    </tr>\n",
       "    <tr>\n",
       "      <th>732</th>\n",
       "      <td>'rehabilitation center'</td>\n",
       "      <td>0.000000</td>\n",
       "    </tr>\n",
       "    <tr>\n",
       "      <th>733</th>\n",
       "      <td>'roofing'</td>\n",
       "      <td>0.000000</td>\n",
       "    </tr>\n",
       "    <tr>\n",
       "      <th>734</th>\n",
       "      <td>'security systems'</td>\n",
       "      <td>0.000000</td>\n",
       "    </tr>\n",
       "    <tr>\n",
       "      <th>735</th>\n",
       "      <td>'shades &amp; blinds'</td>\n",
       "      <td>0.000000</td>\n",
       "    </tr>\n",
       "    <tr>\n",
       "      <th>736</th>\n",
       "      <td>'solar installation'</td>\n",
       "      <td>0.000000</td>\n",
       "    </tr>\n",
       "    <tr>\n",
       "      <th>737</th>\n",
       "      <td>'talent agencies'</td>\n",
       "      <td>0.000000</td>\n",
       "    </tr>\n",
       "    <tr>\n",
       "      <th>738</th>\n",
       "      <td>'tapas bars'</td>\n",
       "      <td>0.000000</td>\n",
       "    </tr>\n",
       "    <tr>\n",
       "      <th>739</th>\n",
       "      <td>'tree services'</td>\n",
       "      <td>0.000000</td>\n",
       "    </tr>\n",
       "    <tr>\n",
       "      <th>740</th>\n",
       "      <td>'uniforms'</td>\n",
       "      <td>0.000000</td>\n",
       "    </tr>\n",
       "    <tr>\n",
       "      <th>741</th>\n",
       "      <td>'videographers'</td>\n",
       "      <td>0.000000</td>\n",
       "    </tr>\n",
       "    <tr>\n",
       "      <th>742</th>\n",
       "      <td>'web design'</td>\n",
       "      <td>0.000000</td>\n",
       "    </tr>\n",
       "    <tr>\n",
       "      <th>743</th>\n",
       "      <td>'window washing'</td>\n",
       "      <td>0.000000</td>\n",
       "    </tr>\n",
       "    <tr>\n",
       "      <th>744</th>\n",
       "      <td>'windows installation'</td>\n",
       "      <td>0.000000</td>\n",
       "    </tr>\n",
       "  </tbody>\n",
       "</table>\n",
       "<p>745 rows × 2 columns</p>\n",
       "</div>"
      ],
      "text/plain": [
       "                             0         1\n",
       "0          useful_per_review_u  0.108358\n",
       "1            cool_per_review_u  0.080562\n",
       "2           funny_per_review_u  0.072615\n",
       "3          review_user_std_dev  0.071686\n",
       "4                  review_date  0.071396\n",
       "5                  text_length  0.061717\n",
       "6               count_non_stop  0.059481\n",
       "7            review_count_user  0.052696\n",
       "8                   stars_user  0.047257\n",
       "9        review_count_business  0.046735\n",
       "10           count_exclamation  0.026788\n",
       "11                stars_review  0.023644\n",
       "12             popularity_bins  0.023540\n",
       "13              stars_business  0.022239\n",
       "14              count_question  0.011312\n",
       "15              useful_r_ratio  0.006883\n",
       "16               'restaurants'  0.005780\n",
       "17                   'mexican'  0.005045\n",
       "18                      'food'  0.004371\n",
       "19            'american (new)'  0.004049\n",
       "20            'american (new)'  0.003389\n",
       "21    'american (traditional)'  0.003374\n",
       "22                   'burgers'  0.003323\n",
       "23                 'nightlife'  0.003228\n",
       "24    'american (traditional)'  0.003119\n",
       "25                     'pizza'  0.003052\n",
       "26        'breakfast & brunch'  0.003037\n",
       "27                'sandwiches'  0.002990\n",
       "28                     'pizza'  0.002740\n",
       "29                   'italian'  0.002610\n",
       "..                         ...       ...\n",
       "715                 'handyman'  0.000000\n",
       "716            'home cleaning'  0.000000\n",
       "717           'hot tub & pool'  0.000000\n",
       "718        'keys & locksmiths'  0.000000\n",
       "719              'landscaping'  0.000000\n",
       "720           'makeup artists'  0.000000\n",
       "721                'marketing'  0.000000\n",
       "722                 'midwives'  0.000000\n",
       "723         'mortgage brokers'  0.000000\n",
       "724              'neurologist'  0.000000\n",
       "725                 'painters'  0.000000\n",
       "726           'personal chefs'  0.000000\n",
       "727            'photographers'  0.000000\n",
       "728                  'pilates'  0.000000\n",
       "729              'print media'  0.000000\n",
       "730       'real estate agents'  0.000000\n",
       "731              'real estate'  0.000000\n",
       "732    'rehabilitation center'  0.000000\n",
       "733                  'roofing'  0.000000\n",
       "734         'security systems'  0.000000\n",
       "735          'shades & blinds'  0.000000\n",
       "736       'solar installation'  0.000000\n",
       "737          'talent agencies'  0.000000\n",
       "738               'tapas bars'  0.000000\n",
       "739            'tree services'  0.000000\n",
       "740                 'uniforms'  0.000000\n",
       "741            'videographers'  0.000000\n",
       "742               'web design'  0.000000\n",
       "743           'window washing'  0.000000\n",
       "744     'windows installation'  0.000000\n",
       "\n",
       "[745 rows x 2 columns]"
      ]
     },
     "execution_count": 113,
     "metadata": {},
     "output_type": "execute_result"
    }
   ],
   "source": [
    "features = sorted(list(zip(X.columns, model.feature_importances_)), key=lambda x:x[1], reverse=True)\n",
    "df_features = pd.DataFrame(features)\n",
    "df_features"
   ]
  },
  {
   "cell_type": "code",
   "execution_count": null,
   "metadata": {},
   "outputs": [],
   "source": [
    "sns.set(font_scale=1.5)\n",
    "df_features_most_important = df_features.iloc[:20]\n",
    "df_features_most_important.loc[:,1] = df_features_most_important.loc[:,1]*-1 #taking negatives(only to use as presentation visual)\n",
    "ax = sns.barplot(x=1,y=0,data=df_features_most_important, color='green')\n",
    "ax.yaxis.tick_right()\n",
    "plt.rcParams['figure.figsize']=(10,7)\n",
    "plt.tight_layout()\n",
    "plt.savefig('rand_for_imp_features.png')\n",
    "plt.show()"
   ]
  },
  {
   "cell_type": "code",
   "execution_count": null,
   "metadata": {
    "collapsed": true
   },
   "outputs": [],
   "source": []
  }
 ],
 "metadata": {
  "kernelspec": {
   "display_name": "Python 3",
   "language": "python",
   "name": "python3"
  },
  "language_info": {
   "codemirror_mode": {
    "name": "ipython",
    "version": 3
   },
   "file_extension": ".py",
   "mimetype": "text/x-python",
   "name": "python",
   "nbconvert_exporter": "python",
   "pygments_lexer": "ipython3",
   "version": "3.6.2"
  }
 },
 "nbformat": 4,
 "nbformat_minor": 2
}
